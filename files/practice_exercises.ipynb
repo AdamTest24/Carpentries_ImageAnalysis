{
 "cells": [
  {
   "cell_type": "markdown",
   "id": "47319405",
   "metadata": {},
   "source": [
    "## Happy Coding\n",
    "\n",
    "Import the following packages and modules:\n",
    "\n",
    "- Import pyplot as plt from matplotlib\n",
    "- Import numpy\n",
    "- Import glob\n",
    "- From PIL, we need the Image module\n",
    "- From skimage, we need the exposure module"
   ]
  },
  {
   "cell_type": "code",
   "execution_count": null,
   "id": "c3c5fef3",
   "metadata": {},
   "outputs": [],
   "source": []
  },
  {
   "cell_type": "markdown",
   "id": "21658a97",
   "metadata": {},
   "source": [
    "#### Exercise 1\n",
    "\n",
    "Plot histogram for equalised image"
   ]
  },
  {
   "cell_type": "code",
   "execution_count": null,
   "id": "7bc10420",
   "metadata": {},
   "outputs": [],
   "source": []
  },
  {
   "cell_type": "markdown",
   "id": "9278d422",
   "metadata": {},
   "source": [
    "#### Exercise 2\n",
    "\n",
    "Normalise the combined image with respect to cytoplasm?"
   ]
  },
  {
   "cell_type": "code",
   "execution_count": null,
   "id": "a253698d",
   "metadata": {},
   "outputs": [],
   "source": []
  },
  {
   "cell_type": "markdown",
   "id": "077b0b92",
   "metadata": {},
   "source": [
    "#### Exercise 3\n",
    "\n",
    "Move the rectangle towards left so that it have a few cells. Now plot the histogram again and see the differences."
   ]
  },
  {
   "cell_type": "code",
   "execution_count": null,
   "id": "8265bdd4",
   "metadata": {},
   "outputs": [],
   "source": []
  },
  {
   "cell_type": "code",
   "execution_count": null,
   "id": "72f7e510",
   "metadata": {},
   "outputs": [],
   "source": []
  },
  {
   "cell_type": "code",
   "execution_count": null,
   "id": "0df82ca0",
   "metadata": {},
   "outputs": [],
   "source": []
  },
  {
   "cell_type": "markdown",
   "id": "5b42bc62",
   "metadata": {},
   "source": [
    "#### Exercise 4\n",
    "Repeat this process for other images (in the folder) and save 3-4 examples of cells with nuclei and cytoplasm marked\n"
   ]
  },
  {
   "cell_type": "code",
   "execution_count": null,
   "id": "ee2612d6",
   "metadata": {},
   "outputs": [],
   "source": []
  },
  {
   "cell_type": "markdown",
   "id": "56fbaedf",
   "metadata": {},
   "source": [
    "#### Exercise 5\n",
    "Change n_components to 2, 4, 5 and 6 and compare the results."
   ]
  },
  {
   "cell_type": "code",
   "execution_count": null,
   "id": "1f885f9c",
   "metadata": {},
   "outputs": [],
   "source": []
  },
  {
   "cell_type": "markdown",
   "id": "c959b750",
   "metadata": {},
   "source": [
    "#### Exercise 6\n",
    "Apply the Kmeans algorithm to the images and compare the result of the clustering for different choices of n_components.\n",
    "\n",
    "[Documentation](https://scikit-learn.org/stable/modules/generated/sklearn.cluster.KMeans.html):\n",
    "\n",
    "```\n",
    "# To import:\n",
    "from sklearn.cluster import KMeans\n",
    "```"
   ]
  },
  {
   "cell_type": "code",
   "execution_count": null,
   "id": "903a7d0e",
   "metadata": {},
   "outputs": [],
   "source": []
  },
  {
   "cell_type": "markdown",
   "id": "de0bcf76",
   "metadata": {},
   "source": [
    "#### Exercise 7\n",
    "Repeat segmentation for other images."
   ]
  },
  {
   "cell_type": "code",
   "execution_count": null,
   "id": "27198f6a",
   "metadata": {},
   "outputs": [],
   "source": []
  },
  {
   "cell_type": "markdown",
   "id": "381f8b4c",
   "metadata": {},
   "source": [
    "#### Exercise 8\n",
    "Repeat segmentation for all 12 images and plot number of nuclei per image."
   ]
  },
  {
   "cell_type": "code",
   "execution_count": null,
   "id": "9859f4b5",
   "metadata": {},
   "outputs": [],
   "source": []
  },
  {
   "cell_type": "markdown",
   "id": "1eaa0476",
   "metadata": {},
   "source": [
    "#### Exercise 9\n",
    "Repeat segmentation for cytoplasm channel, what do you notice? Explain your observation for any pecularities."
   ]
  },
  {
   "cell_type": "code",
   "execution_count": null,
   "id": "20012ae5",
   "metadata": {},
   "outputs": [],
   "source": []
  }
 ],
 "metadata": {
  "kernelspec": {
   "display_name": "L2D_segment",
   "language": "python",
   "name": "l2d_segment"
  },
  "language_info": {
   "codemirror_mode": {
    "name": "ipython",
    "version": 3
   },
   "file_extension": ".py",
   "mimetype": "text/x-python",
   "name": "python",
   "nbconvert_exporter": "python",
   "pygments_lexer": "ipython3",
   "version": "3.9.10"
  }
 },
 "nbformat": 4,
 "nbformat_minor": 5
}

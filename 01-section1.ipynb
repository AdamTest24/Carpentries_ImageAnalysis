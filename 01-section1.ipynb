{
 "cells": [
  {
   "cell_type": "raw",
   "id": "c319efcf",
   "metadata": {},
   "source": [
    "---\n",
    "title: \"Introduction and Data Exploration\"\n",
    "teaching: 10\n",
    "exercises: 2\n",
    "---"
   ]
  },
  {
   "cell_type": "markdown",
   "id": "d4e2e68e",
   "metadata": {},
   "source": [
    "\n",
    "- How to work with the image data?\n",
    "- What are different ways to explore and visualise the image data?\n",
    "- How is image clustering performed?\n",
    "- How can we perform nuclei segmentation?\n"
   ]
  },
  {
   "cell_type": "markdown",
   "id": "72ab92a9",
   "metadata": {},
   "source": [
    "- Basic image handling: reading in image files, and how to convert them into numerical arrays.\n",
    "- Measurement of pixel intensity, ploting these data as histograms, and learning how to equalise these intensity values across an image.\n",
    "- OpenCV to normalise pixel intensity values of one channel relative to another, to normalise an image.\n",
    "- Constructing scatter plots to observe correlations between the pixel intensities of each channel.\n",
    "- Clustering multiple data points, helping to clearly identify distinct distributions.\n",
    "- Selecting and zoning in on specific parts of an image, for analyses.\n",
    "- Implementation of image clustering.\n",
    "- Counting nuclei *via* image segmentation, targeting cell nuclei using StarDist.\n",
    "\n"
   ]
  },
  {
   "cell_type": "markdown",
   "id": "fd4b2708",
   "metadata": {},
   "source": [
    "## **Why is Image Analysis important?**\n",
    "Image Analysis extracts meaningful data, and can be useful in many different applications. Such as:\n",
    "\n",
    "1. Analysing fluorescent digital slides, which can help quantitate the area of staining of a particular biomarker.\n",
    "\n",
    "2. Image analysis tools can help to automate repetitive processes, and provide quantitative data that is accurate and repeatable, telling you about each slide: beyond the capabilities of manual microscopy.\n",
    "\n",
    "3. Image analyses performed on fluorscent micrographs can help answer questions such as: \n",
    "\n",
    "  - How much area of a tissue sample is stained for a particular biomarker? \n",
    "\n",
    "  - What is the average intensity of a biomarker staining throughout the sample? \n",
    "  \n",
    "  - Do multiple biomarkers co-localize in the tissue, or within individual cells? If so, to what extent?"
   ]
  },
  {
   "cell_type": "markdown",
   "id": "063fb3bb",
   "metadata": {},
   "source": [
    "### **What is an image?**\n",
    "  \n",
    "Images are essentially a matrix in which each index is assigned a number, representing the value at that specifc point. \n",
    "<p style='text-align: justify;'>\n",
    "These indices, more commonly called pixels, are a measure of how many photons hit that particular position on the camera sensor. As these images are matrices, we can do many of the same mathematical operations on images as we do on matrices. However, we don't want to manually generate every image by populating a matrix. This means that we will have to have some manner of interacting with image files on our computer, programmatically. \n",
    "</p>\n",
    "<p style='text-align: justify;'>\n",
    "For all scientific images, you should save them in a file format that minimizes the data lost due to compression. In the field of image analysis, the most common file format you will run into is the Tagged Image File Format (.tiff or .tif) which is a lossless compression format. \n",
    "</p>\n",
    "<p style='text-align: justify;'>\n",
    "In this tutorial, we will learn how to load, manipulate and extract quantitative data from microscopy images. The data set used in this experiment has been taken from [Broad Bioimage Benchmark Collection](https://bbbc.broadinstitute.org/BBBC008) and presents *Human HT29 colon-cancer cells*.\n",
    "</p>\n",
    "\n",
    "### **Images in dataset**\n",
    "<p style='text-align: justify;'>\n",
    "The image set consists of 12 individual images. The samples were stained with Hoechst (channel 1), pH3 (channel 2), and phalloidin (channel 3). Hoechst labels DNA, which is present in the nucleus. Phalloidin labels actin, which is present in the cytoplasm. The last stain - pH3 - is used to indicate cells in mitosis, and is irrelevant for segmentation and counting, so this channel will be ommitted. In this tutorial we will be exploring channel 1 for nuclei, and channel 3 for the cytoplasm.\n",
    "</p>\n",
    "\n",
    "### **Packages**\n",
    "<p style='text-align: justify;'>\n",
    "There are several image processing libraries available in Python, such as *Python Imaging Library*, *Sci-kit Image*, *Scipy.ndimage* and *Open CV*. While each have their own features, they all have the same (or at least very similar) utilities. In this lesson, we will be using the *Python Imaging Library* and *Sci-kit Image*, as these have everything we require, packaged together in easy-to-use functions.\n",
    "</p>\n",
    "<p style='text-align: justify;'>\n",
    "The *Python Imaging Library (PIL)* has a large number of modules and submodules. Each submodule has an array of functions assoicated with a certain type of operation. For example, we will be using module **Image** which provides a number of factory functions, including functions to load images from files, and to create new images.\n",
    "</p>\n",
    "For other basic processing and plotting in Python, the scientific packages Numpy and Matplotlib are needed.\n",
    "\n",
    "\n"
   ]
  },
  {
   "cell_type": "code",
   "execution_count": null,
   "id": "126d73d0",
   "metadata": {},
   "outputs": [],
   "source": [
    "# Loading the packages\n",
    "\n",
    "from PIL import Image # Python Image Library (Pillow)"
   ]
  },
  {
   "cell_type": "markdown",
   "id": "a84604b6",
   "metadata": {},
   "source": [
    "```{.error}\n",
    "Error in py_call_impl(callable, dots$args, dots$keywords): ModuleNotFoundError: No module named 'PIL'\n",
    "\n",
    "Detailed traceback:\n",
    "  File \"<string>\", line 1, in <module>\n",
    "  File \"/home/runner/.local/share/renv/cache/v5/R-4.2/x86_64-pc-linux-gnu/reticulate/1.24/ffdf27627a3c1537478073c43b6e7980/reticulate/python/rpytools/loader.py\", line 39, in _import_hook\n",
    "    module = _import(\n",
    "```"
   ]
  },
  {
   "cell_type": "code",
   "execution_count": null,
   "id": "6498b22b",
   "metadata": {},
   "outputs": [],
   "source": [
    "from skimage import exposure"
   ]
  },
  {
   "cell_type": "markdown",
   "id": "60a40ab2",
   "metadata": {},
   "source": [
    "```{.error}\n",
    "Error in py_call_impl(callable, dots$args, dots$keywords): ModuleNotFoundError: No module named 'skimage'\n",
    "\n",
    "Detailed traceback:\n",
    "  File \"<string>\", line 1, in <module>\n",
    "  File \"/home/runner/.local/share/renv/cache/v5/R-4.2/x86_64-pc-linux-gnu/reticulate/1.24/ffdf27627a3c1537478073c43b6e7980/reticulate/python/rpytools/loader.py\", line 39, in _import_hook\n",
    "    module = _import(\n",
    "```"
   ]
  },
  {
   "cell_type": "code",
   "execution_count": null,
   "id": "01dd1371",
   "metadata": {},
   "outputs": [],
   "source": [
    "import matplotlib.pyplot as plt"
   ]
  },
  {
   "cell_type": "markdown",
   "id": "b973b9e3",
   "metadata": {},
   "source": [
    "```{.error}\n",
    "Error in py_call_impl(callable, dots$args, dots$keywords): ModuleNotFoundError: No module named 'matplotlib'\n",
    "\n",
    "Detailed traceback:\n",
    "  File \"<string>\", line 1, in <module>\n",
    "  File \"/home/runner/.local/share/renv/cache/v5/R-4.2/x86_64-pc-linux-gnu/reticulate/1.24/ffdf27627a3c1537478073c43b6e7980/reticulate/python/rpytools/loader.py\", line 39, in _import_hook\n",
    "    module = _import(\n",
    "```"
   ]
  },
  {
   "cell_type": "code",
   "execution_count": null,
   "id": "76d06577",
   "metadata": {},
   "outputs": [],
   "source": [
    "import numpy as np"
   ]
  },
  {
   "cell_type": "markdown",
   "id": "8c7397bd",
   "metadata": {},
   "source": [
    "```{.error}\n",
    "Error in py_call_impl(callable, dots$args, dots$keywords): ModuleNotFoundError: No module named 'numpy'\n",
    "\n",
    "Detailed traceback:\n",
    "  File \"<string>\", line 1, in <module>\n",
    "  File \"/home/runner/.local/share/renv/cache/v5/R-4.2/x86_64-pc-linux-gnu/reticulate/1.24/ffdf27627a3c1537478073c43b6e7980/reticulate/python/rpytools/loader.py\", line 39, in _import_hook\n",
    "    module = _import(\n",
    "```"
   ]
  },
  {
   "cell_type": "code",
   "execution_count": null,
   "id": "3d8b37d6",
   "metadata": {},
   "outputs": [],
   "source": [
    "import glob"
   ]
  },
  {
   "cell_type": "markdown",
   "id": "c571de6d",
   "metadata": {},
   "source": [
    "## Loading images\n",
    "To begin, let's read in all the images from a directory, and then load an image into memory using the **open** function from the **Image** module of *Python Imaging Library*. This function opens and identifies the given image file.\n"
   ]
  },
  {
   "cell_type": "code",
   "execution_count": null,
   "id": "947acccb",
   "metadata": {},
   "outputs": [],
   "source": [
    "## Get image files\n",
    "\n",
    "ch1_files = glob.glob('data/human_ht29_colon_cancer_2_images/*_channel1.tif') # channel 1 image - nuclei\n",
    "ch3_files = glob.glob('data/human_ht29_colon_cancer_2_images/*_channel3.tif') # channel 3 image - cytoplasm\n",
    "\n",
    "## Check they are correctly paired\n",
    "print(ch1_files[0], \":\", ch3_files[0], \"\\n\")\n",
    "\n",
    "## Sort files\n",
    "\n",
    "ch1_files.sort()\n",
    "ch3_files.sort()\n",
    "\n",
    "## Check they are correctly paired\n",
    "print(\"Correctly paired .... \\n\")\n",
    "print(ch1_files[0], \":\", ch3_files[0], \"\\n\") # First file\n",
    "print(ch1_files[11], \":\", ch3_files[11], \"\\n\") # Last file\n",
    "\n",
    "## Load the first image\n",
    "\n",
    "im1 = Image.open(ch1_files[0])\n",
    "im3 = Image.open(ch3_files[0])"
   ]
  },
  {
   "cell_type": "markdown",
   "id": "a1db6db5",
   "metadata": {},
   "source": [
    "```{.output}\n",
    "data/human_ht29_colon_cancer_2_images/AS_09125_050116000001_A24f00d0_slice6_channel1.tif : data/human_ht29_colon_cancer_2_images/AS_09125_050116000001_A24f00d0_slice1_channel3.tif \n",
    "\n",
    "Correctly paired .... \n",
    "\n",
    "data/human_ht29_colon_cancer_2_images/AS_09125_050116000001_A24f00d0_slice1_channel1.tif : data/human_ht29_colon_cancer_2_images/AS_09125_050116000001_A24f00d0_slice1_channel3.tif \n",
    "\n",
    "data/human_ht29_colon_cancer_2_images/AS_09125_050116000001_L15f00d0_slice6_channel1.tif : data/human_ht29_colon_cancer_2_images/AS_09125_050116000001_L15f00d0_slice6_channel3.tif \n",
    "```\n",
    "\n",
    "```{.error}\n",
    "Error in py_call_impl(callable, dots$args, dots$keywords): NameError: name 'Image' is not defined\n",
    "\n",
    "Detailed traceback:\n",
    "  File \"<string>\", line 1, in <module>\n",
    "```\n",
    "\n",
    "```{.error}\n",
    "Error in py_call_impl(callable, dots$args, dots$keywords): NameError: name 'Image' is not defined\n",
    "\n",
    "Detailed traceback:\n",
    "  File \"<string>\", line 1, in <module>\n",
    "```\n"
   ]
  },
  {
   "cell_type": "code",
   "execution_count": null,
   "id": "69f2368d",
   "metadata": {},
   "outputs": [],
   "source": [
    "## Show Data\n",
    "\n",
    "fig, axs = plt.subplots(1,2, dpi = 300, figsize=(6, 6))\n",
    "\n",
    "axs[0].imshow(im1);\n",
    "axs[0].axis('off')\n",
    "\n",
    "axs[1].imshow(im3);\n",
    "axs[1].axis('off');"
   ]
  },
  {
   "cell_type": "markdown",
   "id": "bf45de36",
   "metadata": {},
   "source": [
    "```{.error}\n",
    "Error in py_call_impl(callable, dots$args, dots$keywords): NameError: name 'plt' is not defined\n",
    "\n",
    "Detailed traceback:\n",
    "  File \"<string>\", line 1, in <module>\n",
    "```\n",
    "\n",
    "```{.error}\n",
    "Error in py_call_impl(callable, dots$args, dots$keywords): NameError: name 'axs' is not defined\n",
    "\n",
    "Detailed traceback:\n",
    "  File \"<string>\", line 1, in <module>\n",
    "```\n",
    "\n",
    "```{.error}\n",
    "Error in py_call_impl(callable, dots$args, dots$keywords): NameError: name 'axs' is not defined\n",
    "\n",
    "Detailed traceback:\n",
    "  File \"<string>\", line 1, in <module>\n",
    "```\n",
    "\n",
    "```{.error}\n",
    "Error in py_call_impl(callable, dots$args, dots$keywords): NameError: name 'axs' is not defined\n",
    "\n",
    "Detailed traceback:\n",
    "  File \"<string>\", line 1, in <module>\n",
    "```\n",
    "\n",
    "```{.error}\n",
    "Error in py_call_impl(callable, dots$args, dots$keywords): NameError: name 'axs' is not defined\n",
    "\n",
    "Detailed traceback:\n",
    "  File \"<string>\", line 1, in <module>\n",
    "```\n",
    "\n",
    "![](fig/img1.png)\n"
   ]
  },
  {
   "cell_type": "code",
   "execution_count": null,
   "id": "3a8dbeab",
   "metadata": {},
   "outputs": [],
   "source": [
    "type(im1)"
   ]
  },
  {
   "cell_type": "markdown",
   "id": "2d06d894",
   "metadata": {},
   "source": [
    "```{.error}\n",
    "Error in py_call_impl(callable, dots$args, dots$keywords): NameError: name 'im1' is not defined\n",
    "\n",
    "Detailed traceback:\n",
    "  File \"<string>\", line 1, in <module>\n",
    "```\n",
    "\n",
    "<p style='text-align: justify;'>\n",
    "The above command shows the type of image object im1. In order to perform any analyses, we need to have the numerical information of an image, which exists as arrays. The arrays are implemented by a package called Numpy, which is foundational to the entire scientific Python ecosystem. As soon as we perform numerical computations, we use data in the form of Numpy arrays.\n",
    "</p>\n",
    "\n",
    "Below, we convert the image object into an array, as follows:\n",
    "  "
   ]
  },
  {
   "cell_type": "code",
   "execution_count": null,
   "id": "8c70fbbe",
   "metadata": {},
   "outputs": [],
   "source": [
    "## Convert image to array\n",
    "\n",
    "data1 = np.asarray(im1)\n",
    "data3 = np.asarray(im3)\n",
    "\n",
    "print('Image has', data1.shape[0], 'by', data1.shape[1], 'pixels') # check the shape of array\n",
    "print('')\n",
    "print('Total number of pixels is', data1.size) # check the size of array"
   ]
  },
  {
   "cell_type": "markdown",
   "id": "db01cccd",
   "metadata": {},
   "source": [
    "```{.error}\n",
    "Error in py_call_impl(callable, dots$args, dots$keywords): NameError: name 'np' is not defined\n",
    "\n",
    "Detailed traceback:\n",
    "  File \"<string>\", line 1, in <module>\n",
    "```\n",
    "\n",
    "```{.error}\n",
    "Error in py_call_impl(callable, dots$args, dots$keywords): NameError: name 'np' is not defined\n",
    "\n",
    "Detailed traceback:\n",
    "  File \"<string>\", line 1, in <module>\n",
    "```\n",
    "\n",
    "```{.error}\n",
    "Error in py_call_impl(callable, dots$args, dots$keywords): NameError: name 'data1' is not defined\n",
    "\n",
    "Detailed traceback:\n",
    "  File \"<string>\", line 1, in <module>\n",
    "```\n",
    "\n",
    "```{.error}\n",
    "Error in py_call_impl(callable, dots$args, dots$keywords): NameError: name 'data1' is not defined\n",
    "\n",
    "Detailed traceback:\n",
    "  File \"<string>\", line 1, in <module>\n",
    "```\n"
   ]
  },
  {
   "cell_type": "code",
   "execution_count": null,
   "id": "3ed851fe",
   "metadata": {},
   "outputs": [],
   "source": [
    "# Check the content of the array\n",
    "\n",
    "print(data1)\n",
    "print('')\n",
    "print(data1[10:20, 10:20])\n",
    "print('')\n",
    "print('Array type:', type(data1))\n",
    "print('Data type: ',  data1.dtype)"
   ]
  },
  {
   "cell_type": "markdown",
   "id": "9b4fa1d8",
   "metadata": {},
   "source": [
    "```{.error}\n",
    "Error in py_call_impl(callable, dots$args, dots$keywords): NameError: name 'data1' is not defined\n",
    "\n",
    "Detailed traceback:\n",
    "  File \"<string>\", line 1, in <module>\n",
    "```\n",
    "\n",
    "```{.error}\n",
    "Error in py_call_impl(callable, dots$args, dots$keywords): NameError: name 'data1' is not defined\n",
    "\n",
    "Detailed traceback:\n",
    "  File \"<string>\", line 1, in <module>\n",
    "```\n",
    "\n",
    "```{.error}\n",
    "Error in py_call_impl(callable, dots$args, dots$keywords): NameError: name 'data1' is not defined\n",
    "\n",
    "Detailed traceback:\n",
    "  File \"<string>\", line 1, in <module>\n",
    "```\n",
    "\n",
    "```{.error}\n",
    "Error in py_call_impl(callable, dots$args, dots$keywords): NameError: name 'data1' is not defined\n",
    "\n",
    "Detailed traceback:\n",
    "  File \"<string>\", line 1, in <module>\n",
    "```\n",
    "\n",
    "<p style='text-align: justify;'>\n",
    "The type function has returned numpy.ndarray where nd stands for n-dimensional, as Numpy can handle data of any dimension. The above output only shows us a fraction of the image, with the ```...``` indicating non-displayed values. We can also observe `dtype`, which tells us the type of the pixels within the array. The variable data1 is an array, but its content can vary: we could have floating point values, integers *etc*. Here, uint8 tells us we have unsigned (no negative values) integers in 8 bit, *i.e.* up to $2^8$ different possible pixel values.\n",
    "</p>\n",
    "<p style='text-align: justify;'>\n",
    "In microscopy, the flourecent images are labelled with three colours: red, green and blue (RGB). An RGB image is simply a stack of three two-dimensional arrays. The image in the first dimension will have a red colour map, the second a green colour map, and the third a blue colour map. In this dataset, channel 1 (nuclei) is labelled red, and channel 3 (cytoplasm) is labelled blue; channel 2 is empty. We will now combine the data of these two images into a single array, and into a single image.\n",
    "</p>\n"
   ]
  },
  {
   "cell_type": "code",
   "execution_count": null,
   "id": "f5b1a550",
   "metadata": {},
   "outputs": [],
   "source": [
    "# Combine data of two images\n",
    "data = np.zeros((data1.shape[0], data1.shape[0], 3)) # 3 two-dimensional arrays; 1 for each channel"
   ]
  },
  {
   "cell_type": "markdown",
   "id": "ed0d7b1f",
   "metadata": {},
   "source": [
    "```{.error}\n",
    "Error in py_call_impl(callable, dots$args, dots$keywords): NameError: name 'np' is not defined\n",
    "\n",
    "Detailed traceback:\n",
    "  File \"<string>\", line 1, in <module>\n",
    "```"
   ]
  },
  {
   "cell_type": "code",
   "execution_count": null,
   "id": "6369a012",
   "metadata": {},
   "outputs": [],
   "source": [
    "data[:,:,0] = data1 # Assigning image 1 as first channel"
   ]
  },
  {
   "cell_type": "markdown",
   "id": "9fcd5b87",
   "metadata": {},
   "source": [
    "```{.error}\n",
    "Error in py_call_impl(callable, dots$args, dots$keywords): NameError: name 'data1' is not defined\n",
    "\n",
    "Detailed traceback:\n",
    "  File \"<string>\", line 1, in <module>\n",
    "```"
   ]
  },
  {
   "cell_type": "code",
   "execution_count": null,
   "id": "ec28014d",
   "metadata": {},
   "outputs": [],
   "source": [
    "data[:,:,2] = data3 # Assigning image 3 as 3rd/last channel\n",
    "\n",
    "# Converting numeric data to image"
   ]
  },
  {
   "cell_type": "markdown",
   "id": "f608529f",
   "metadata": {},
   "source": [
    "```{.error}\n",
    "Error in py_call_impl(callable, dots$args, dots$keywords): NameError: name 'data3' is not defined\n",
    "\n",
    "Detailed traceback:\n",
    "  File \"<string>\", line 1, in <module>\n",
    "```"
   ]
  },
  {
   "cell_type": "code",
   "execution_count": null,
   "id": "3520c43e",
   "metadata": {},
   "outputs": [],
   "source": [
    "im = Image.fromarray(np.uint8(data)) "
   ]
  },
  {
   "cell_type": "markdown",
   "id": "c3eb8917",
   "metadata": {},
   "source": [
    "```{.error}\n",
    "Error in py_call_impl(callable, dots$args, dots$keywords): NameError: name 'Image' is not defined\n",
    "\n",
    "Detailed traceback:\n",
    "  File \"<string>\", line 1, in <module>\n",
    "```\n"
   ]
  },
  {
   "cell_type": "code",
   "execution_count": null,
   "id": "a073d350",
   "metadata": {},
   "outputs": [],
   "source": [
    "# Show combined data\n",
    "fig, axs = plt.subplots(1, 3, dpi = 400)\n",
    "\n",
    "axs[0].imshow(data1);\n",
    "axs[0].axis('off');\n",
    "\n",
    "axs[1].imshow(data3);\n",
    "axs[1].axis('off');\n",
    "\n",
    "axs[2].imshow(im); # Combined image\n",
    "axs[2].axis('off')"
   ]
  },
  {
   "cell_type": "markdown",
   "id": "c017f461",
   "metadata": {},
   "source": [
    "```{.error}\n",
    "Error in py_call_impl(callable, dots$args, dots$keywords): NameError: name 'plt' is not defined\n",
    "\n",
    "Detailed traceback:\n",
    "  File \"<string>\", line 1, in <module>\n",
    "```\n",
    "\n",
    "```{.error}\n",
    "Error in py_call_impl(callable, dots$args, dots$keywords): NameError: name 'axs' is not defined\n",
    "\n",
    "Detailed traceback:\n",
    "  File \"<string>\", line 1, in <module>\n",
    "```\n",
    "\n",
    "```{.error}\n",
    "Error in py_call_impl(callable, dots$args, dots$keywords): NameError: name 'axs' is not defined\n",
    "\n",
    "Detailed traceback:\n",
    "  File \"<string>\", line 1, in <module>\n",
    "```\n",
    "\n",
    "```{.error}\n",
    "Error in py_call_impl(callable, dots$args, dots$keywords): NameError: name 'axs' is not defined\n",
    "\n",
    "Detailed traceback:\n",
    "  File \"<string>\", line 1, in <module>\n",
    "```\n",
    "\n",
    "```{.error}\n",
    "Error in py_call_impl(callable, dots$args, dots$keywords): NameError: name 'axs' is not defined\n",
    "\n",
    "Detailed traceback:\n",
    "  File \"<string>\", line 1, in <module>\n",
    "```\n",
    "\n",
    "```{.error}\n",
    "Error in py_call_impl(callable, dots$args, dots$keywords): NameError: name 'axs' is not defined\n",
    "\n",
    "Detailed traceback:\n",
    "  File \"<string>\", line 1, in <module>\n",
    "```\n",
    "\n",
    "```{.error}\n",
    "Error in py_call_impl(callable, dots$args, dots$keywords): NameError: name 'axs' is not defined\n",
    "\n",
    "Detailed traceback:\n",
    "  File \"<string>\", line 1, in <module>\n",
    "```\n",
    "\n",
    "![](fig/img3.png)\n",
    "\n",
    "and enlarged:\n",
    "  \n",
    "```\n",
    "im\n",
    "```\n",
    "![](fig/combined.png)\n",
    "The combined image shows red (nuclei) and blue (cytoplasm) colors.\n",
    "\n",
    "## Data Exploration\n",
    "<p style='text-align: justify;'>\n",
    "In image analysis, one of the most common tasks is to look at the distribution of pixel intensities, and display this as a histogram. For example: we can count how many times each pixel value (or range) appears in an image, and display this as a bar. This allows us to get a quick estimate of the intensities present in an image and to check for problems like saturation. We are going to plot the intensities of channel 1 and 3 as histograms.  \n",
    "</p>\n",
    "\n",
    "<p style='text-align: justify;'>\n",
    "We have already demonstrated that we can use Matplotlib’s `imshow` function to display an image. Now we look at a second plotting function from that library, which generates a histogram plt.hist(). We are aiming to compute the histogram on all pixels, and for this we cannot use our 2D image as an input. The image needs to first be flattened into a single series of numbers. This can be done with the ravel() method of the array:\n",
    "</p>\n"
   ]
  },
  {
   "cell_type": "code",
   "execution_count": null,
   "id": "cb088825",
   "metadata": {},
   "outputs": [],
   "source": [
    "# Plot histogram\n",
    "fig, axs = plt.subplots(2, sharex=True, sharey=True)\n",
    "\n",
    "axs[0].hist(data1.ravel(), bins=100);\n",
    "axs[0].set_title(\"nuclei\");\n",
    "axs[0].set_xlim(0,40)\n",
    "\n",
    "axs[1].hist(data3.ravel(), bins=100);\n",
    "axs[1].set_title(\"cytoplasm\");\n",
    "axs[1].set_xlim(0,40)\n",
    "\n",
    "plt.show()\n",
    "\n",
    "print(data1.max(), \":\", data3.max())"
   ]
  },
  {
   "cell_type": "markdown",
   "id": "9da6ae1a",
   "metadata": {},
   "source": [
    "```{.error}\n",
    "Error in py_call_impl(callable, dots$args, dots$keywords): NameError: name 'plt' is not defined\n",
    "\n",
    "Detailed traceback:\n",
    "  File \"<string>\", line 1, in <module>\n",
    "```\n",
    "\n",
    "```{.error}\n",
    "Error in py_call_impl(callable, dots$args, dots$keywords): NameError: name 'axs' is not defined\n",
    "\n",
    "Detailed traceback:\n",
    "  File \"<string>\", line 1, in <module>\n",
    "```\n",
    "\n",
    "```{.error}\n",
    "Error in py_call_impl(callable, dots$args, dots$keywords): NameError: name 'axs' is not defined\n",
    "\n",
    "Detailed traceback:\n",
    "  File \"<string>\", line 1, in <module>\n",
    "```\n",
    "\n",
    "```{.error}\n",
    "Error in py_call_impl(callable, dots$args, dots$keywords): NameError: name 'axs' is not defined\n",
    "\n",
    "Detailed traceback:\n",
    "  File \"<string>\", line 1, in <module>\n",
    "```\n",
    "\n",
    "```{.error}\n",
    "Error in py_call_impl(callable, dots$args, dots$keywords): NameError: name 'axs' is not defined\n",
    "\n",
    "Detailed traceback:\n",
    "  File \"<string>\", line 1, in <module>\n",
    "```\n",
    "\n",
    "```{.error}\n",
    "Error in py_call_impl(callable, dots$args, dots$keywords): NameError: name 'axs' is not defined\n",
    "\n",
    "Detailed traceback:\n",
    "  File \"<string>\", line 1, in <module>\n",
    "```\n",
    "\n",
    "```{.error}\n",
    "Error in py_call_impl(callable, dots$args, dots$keywords): NameError: name 'axs' is not defined\n",
    "\n",
    "Detailed traceback:\n",
    "  File \"<string>\", line 1, in <module>\n",
    "```\n",
    "\n",
    "```{.error}\n",
    "Error in py_call_impl(callable, dots$args, dots$keywords): NameError: name 'plt' is not defined\n",
    "\n",
    "Detailed traceback:\n",
    "  File \"<string>\", line 1, in <module>\n",
    "```\n",
    "\n",
    "```{.error}\n",
    "Error in py_call_impl(callable, dots$args, dots$keywords): NameError: name 'data1' is not defined\n",
    "\n",
    "Detailed traceback:\n",
    "  File \"<string>\", line 1, in <module>\n",
    "```\n",
    "\n",
    "<p style='text-align: justify;'>\n",
    "The histograms show that there is a very high intensity of fluorescence for nuclei, relative to the cytoplasm, and this is the reason that red is more evident on the image, compared to blue. The intensities can be equalised by using a function *exposure.equalize_hist* from the **exposure** module in skimage library. This function returns an image which can then be used to plot a histogram.\n",
    "</p>\n"
   ]
  },
  {
   "cell_type": "code",
   "execution_count": null,
   "id": "69a6cc5f",
   "metadata": {},
   "outputs": [],
   "source": [
    "# Equalize histogram \n",
    "from skimage import exposure\n",
    "\n",
    "img_eq = exposure.equalize_hist(data)\n",
    "\n",
    "plt.figure(dpi=100)\n",
    "plt.imshow(img_eq)\n",
    "plt.axis('off')\n",
    "plt.show()"
   ]
  },
  {
   "cell_type": "markdown",
   "id": "3cb32a10",
   "metadata": {},
   "source": [
    "```{.error}\n",
    "Error in py_call_impl(callable, dots$args, dots$keywords): ModuleNotFoundError: No module named 'skimage'\n",
    "\n",
    "Detailed traceback:\n",
    "  File \"<string>\", line 1, in <module>\n",
    "  File \"/home/runner/.local/share/renv/cache/v5/R-4.2/x86_64-pc-linux-gnu/reticulate/1.24/ffdf27627a3c1537478073c43b6e7980/reticulate/python/rpytools/loader.py\", line 39, in _import_hook\n",
    "    module = _import(\n",
    "```\n",
    "\n",
    "```{.error}\n",
    "Error in py_call_impl(callable, dots$args, dots$keywords): NameError: name 'exposure' is not defined\n",
    "\n",
    "Detailed traceback:\n",
    "  File \"<string>\", line 1, in <module>\n",
    "```\n",
    "\n",
    "```{.error}\n",
    "Error in py_call_impl(callable, dots$args, dots$keywords): NameError: name 'plt' is not defined\n",
    "\n",
    "Detailed traceback:\n",
    "  File \"<string>\", line 1, in <module>\n",
    "```\n",
    "\n",
    "```{.error}\n",
    "Error in py_call_impl(callable, dots$args, dots$keywords): NameError: name 'plt' is not defined\n",
    "\n",
    "Detailed traceback:\n",
    "  File \"<string>\", line 1, in <module>\n",
    "```\n",
    "\n",
    "```{.error}\n",
    "Error in py_call_impl(callable, dots$args, dots$keywords): NameError: name 'plt' is not defined\n",
    "\n",
    "Detailed traceback:\n",
    "  File \"<string>\", line 1, in <module>\n",
    "```\n",
    "\n",
    "```{.error}\n",
    "Error in py_call_impl(callable, dots$args, dots$keywords): NameError: name 'plt' is not defined\n",
    "\n",
    "Detailed traceback:\n",
    "  File \"<string>\", line 1, in <module>\n",
    "```"
   ]
  },
  {
   "cell_type": "markdown",
   "id": "b53317c3",
   "metadata": {},
   "source": [
    "## Do it Yourself - Exercise 1\n",
    "\n",
    "Plot a histogram for equalised image, and show intensities of nuclei and cytoplasm."
   ]
  },
  {
   "cell_type": "markdown",
   "id": "571f7840",
   "metadata": {},
   "source": [
    "## DIY ANSWER\n",
    "\n",
    "\n"
   ]
  },
  {
   "cell_type": "markdown",
   "id": "bdbfef35",
   "metadata": {},
   "source": [
    "### **OpenCV**\n",
    "<p style='text-align: justify;'>\n",
    "To demonstrate the vast functionality available in Python, we will take a look at __OpenCV__. OpenCV (Open Source Computer Vision Library: http://opencv.org); an open-source library that includes several hundred computer vision algorithms.\n",
    "</p>\n",
    "<p style='text-align: justify;'>\n",
    "For example, we can use functions to normalise our image data. Mathematical normalisation can be performed on images individually, or with respect to another channel. In the following example, we will normalise channel 3, with respect to channel 1. To do so, we calculate the mean and standard deviation of the pixel intensity of channel 1, and remove them from channel 3.\n",
    "</p>\n"
   ]
  },
  {
   "cell_type": "code",
   "execution_count": null,
   "id": "50f87c13",
   "metadata": {},
   "outputs": [],
   "source": [
    "# Normalise to a different channel\n",
    "\n",
    "import cv2 # GB - Explanation of package cv2\n",
    "#print(cv2._version_)\n",
    "\n",
    "# Calculate mean and STD"
   ]
  },
  {
   "cell_type": "markdown",
   "id": "fbc3e197",
   "metadata": {},
   "source": [
    "```{.error}\n",
    "Error in py_call_impl(callable, dots$args, dots$keywords): ModuleNotFoundError: No module named 'cv2'\n",
    "\n",
    "Detailed traceback:\n",
    "  File \"<string>\", line 1, in <module>\n",
    "  File \"/home/runner/.local/share/renv/cache/v5/R-4.2/x86_64-pc-linux-gnu/reticulate/1.24/ffdf27627a3c1537478073c43b6e7980/reticulate/python/rpytools/loader.py\", line 39, in _import_hook\n",
    "    module = _import(\n",
    "```"
   ]
  },
  {
   "cell_type": "code",
   "execution_count": null,
   "id": "71e04dc5",
   "metadata": {},
   "outputs": [],
   "source": [
    "mean, STD = cv2.meanStdDev(data1)\n",
    "\n",
    "# Clip frame to lower and upper STD"
   ]
  },
  {
   "cell_type": "markdown",
   "id": "7968ac02",
   "metadata": {},
   "source": [
    "```{.error}\n",
    "Error in py_call_impl(callable, dots$args, dots$keywords): NameError: name 'cv2' is not defined\n",
    "\n",
    "Detailed traceback:\n",
    "  File \"<string>\", line 1, in <module>\n",
    "```"
   ]
  },
  {
   "cell_type": "code",
   "execution_count": null,
   "id": "ed10e317",
   "metadata": {},
   "outputs": [],
   "source": [
    "offset = 1\n",
    "offset_nuclei = np.clip(im, mean - STD, mean + STD).astype(np.uint8)\n",
    "\n",
    "# Normalise to range"
   ]
  },
  {
   "cell_type": "markdown",
   "id": "03b45951",
   "metadata": {},
   "source": [
    "```{.error}\n",
    "Error in py_call_impl(callable, dots$args, dots$keywords): NameError: name 'np' is not defined\n",
    "\n",
    "Detailed traceback:\n",
    "  File \"<string>\", line 1, in <module>\n",
    "```"
   ]
  },
  {
   "cell_type": "code",
   "execution_count": null,
   "id": "9a6a2e2a",
   "metadata": {},
   "outputs": [],
   "source": [
    "result = cv2.normalize(offset_nuclei, np.uint8(data), 0, 255, norm_type=cv2.NORM_MINMAX)"
   ]
  },
  {
   "cell_type": "markdown",
   "id": "b4d7f6b4",
   "metadata": {},
   "source": [
    "```{.error}\n",
    "Error in py_call_impl(callable, dots$args, dots$keywords): NameError: name 'cv2' is not defined\n",
    "\n",
    "Detailed traceback:\n",
    "  File \"<string>\", line 1, in <module>\n",
    "```\n",
    "\n"
   ]
  },
  {
   "cell_type": "code",
   "execution_count": null,
   "id": "c044b222",
   "metadata": {},
   "outputs": [],
   "source": [
    "# Plot normalised image\n",
    "plt.figure(dpi=200)\n",
    "plt.imshow(result);\n",
    "plt.axis('off')\n",
    "plt.show()"
   ]
  },
  {
   "cell_type": "markdown",
   "id": "03f77c2a",
   "metadata": {},
   "source": [
    "```{.error}\n",
    "Error in py_call_impl(callable, dots$args, dots$keywords): NameError: name 'plt' is not defined\n",
    "\n",
    "Detailed traceback:\n",
    "  File \"<string>\", line 1, in <module>\n",
    "```\n",
    "\n",
    "```{.error}\n",
    "Error in py_call_impl(callable, dots$args, dots$keywords): NameError: name 'plt' is not defined\n",
    "\n",
    "Detailed traceback:\n",
    "  File \"<string>\", line 1, in <module>\n",
    "```\n",
    "\n",
    "```{.error}\n",
    "Error in py_call_impl(callable, dots$args, dots$keywords): NameError: name 'plt' is not defined\n",
    "\n",
    "Detailed traceback:\n",
    "  File \"<string>\", line 1, in <module>\n",
    "```\n",
    "\n",
    "```{.error}\n",
    "Error in py_call_impl(callable, dots$args, dots$keywords): NameError: name 'plt' is not defined\n",
    "\n",
    "Detailed traceback:\n",
    "  File \"<string>\", line 1, in <module>\n",
    "```"
   ]
  },
  {
   "cell_type": "markdown",
   "id": "3ff0cecf",
   "metadata": {},
   "source": [
    "## Do it Yourself - Exercise 2\n",
    "\n",
    "Normalise the combined image with respect to cytoplasm?"
   ]
  },
  {
   "cell_type": "markdown",
   "id": "5c36ccc5",
   "metadata": {},
   "source": [
    "## DIY ANSWER\n",
    "\n"
   ]
  },
  {
   "cell_type": "markdown",
   "id": "551fd28f",
   "metadata": {},
   "source": [
    "## Tea Break\n",
    "\n",
    "## Data Visualisation\n",
    "\n",
    "Now we can plot histograms of the normalised intensities in channel 1, channel 3, and the background.\n"
   ]
  },
  {
   "cell_type": "code",
   "execution_count": null,
   "id": "9580b83a",
   "metadata": {},
   "outputs": [],
   "source": [
    "# Plot histograms\n",
    "fig, axs = plt.subplots(3, sharex=True, sharey=True)"
   ]
  },
  {
   "cell_type": "markdown",
   "id": "05e2c154",
   "metadata": {},
   "source": [
    "```{.error}\n",
    "Error in py_call_impl(callable, dots$args, dots$keywords): NameError: name 'plt' is not defined\n",
    "\n",
    "Detailed traceback:\n",
    "  File \"<string>\", line 1, in <module>\n",
    "```"
   ]
  },
  {
   "cell_type": "code",
   "execution_count": null,
   "id": "f7d8080d",
   "metadata": {},
   "outputs": [],
   "source": [
    "axs[0].hist(result[:,:,0].ravel(), bins=30);"
   ]
  },
  {
   "cell_type": "markdown",
   "id": "35a6fe3b",
   "metadata": {},
   "source": [
    "```{.error}\n",
    "Error in py_call_impl(callable, dots$args, dots$keywords): NameError: name 'axs' is not defined\n",
    "\n",
    "Detailed traceback:\n",
    "  File \"<string>\", line 1, in <module>\n",
    "```"
   ]
  },
  {
   "cell_type": "code",
   "execution_count": null,
   "id": "2e11e249",
   "metadata": {},
   "outputs": [],
   "source": [
    "axs[0].set_title('Nuclei')"
   ]
  },
  {
   "cell_type": "markdown",
   "id": "1ed68551",
   "metadata": {},
   "source": [
    "```{.error}\n",
    "Error in py_call_impl(callable, dots$args, dots$keywords): NameError: name 'axs' is not defined\n",
    "\n",
    "Detailed traceback:\n",
    "  File \"<string>\", line 1, in <module>\n",
    "```"
   ]
  },
  {
   "cell_type": "code",
   "execution_count": null,
   "id": "93838337",
   "metadata": {},
   "outputs": [],
   "source": [
    "axs[1].hist(result[:,:,2].ravel(), bins=30);"
   ]
  },
  {
   "cell_type": "markdown",
   "id": "dedd77c3",
   "metadata": {},
   "source": [
    "```{.error}\n",
    "Error in py_call_impl(callable, dots$args, dots$keywords): NameError: name 'axs' is not defined\n",
    "\n",
    "Detailed traceback:\n",
    "  File \"<string>\", line 1, in <module>\n",
    "```"
   ]
  },
  {
   "cell_type": "code",
   "execution_count": null,
   "id": "d98bfd17",
   "metadata": {},
   "outputs": [],
   "source": [
    "axs[1].set_title('Cytoplasm')"
   ]
  },
  {
   "cell_type": "markdown",
   "id": "c4c9594a",
   "metadata": {},
   "source": [
    "```{.error}\n",
    "Error in py_call_impl(callable, dots$args, dots$keywords): NameError: name 'axs' is not defined\n",
    "\n",
    "Detailed traceback:\n",
    "  File \"<string>\", line 1, in <module>\n",
    "```"
   ]
  },
  {
   "cell_type": "code",
   "execution_count": null,
   "id": "be33da59",
   "metadata": {},
   "outputs": [],
   "source": [
    "axs[2].hist(result[:,:,2].ravel() - result[:,:,0].ravel(), bins=30);"
   ]
  },
  {
   "cell_type": "markdown",
   "id": "8f67e6b7",
   "metadata": {},
   "source": [
    "```{.error}\n",
    "Error in py_call_impl(callable, dots$args, dots$keywords): NameError: name 'axs' is not defined\n",
    "\n",
    "Detailed traceback:\n",
    "  File \"<string>\", line 1, in <module>\n",
    "```"
   ]
  },
  {
   "cell_type": "code",
   "execution_count": null,
   "id": "85ec4081",
   "metadata": {},
   "outputs": [],
   "source": [
    "axs[2].set_title('Cytoplasm - Nuclei')"
   ]
  },
  {
   "cell_type": "markdown",
   "id": "e92d746d",
   "metadata": {},
   "source": [
    "```{.error}\n",
    "Error in py_call_impl(callable, dots$args, dots$keywords): NameError: name 'axs' is not defined\n",
    "\n",
    "Detailed traceback:\n",
    "  File \"<string>\", line 1, in <module>\n",
    "```"
   ]
  },
  {
   "cell_type": "code",
   "execution_count": null,
   "id": "09819aa5",
   "metadata": {},
   "outputs": [],
   "source": [
    "fig.tight_layout();"
   ]
  },
  {
   "cell_type": "markdown",
   "id": "0fc870a7",
   "metadata": {},
   "source": [
    "```{.error}\n",
    "Error in py_call_impl(callable, dots$args, dots$keywords): NameError: name 'fig' is not defined\n",
    "\n",
    "Detailed traceback:\n",
    "  File \"<string>\", line 1, in <module>\n",
    "```"
   ]
  },
  {
   "cell_type": "code",
   "execution_count": null,
   "id": "e549cb8b",
   "metadata": {},
   "outputs": [],
   "source": [
    "plt.show()"
   ]
  },
  {
   "cell_type": "markdown",
   "id": "f983f4a4",
   "metadata": {},
   "source": [
    "```{.error}\n",
    "Error in py_call_impl(callable, dots$args, dots$keywords): NameError: name 'plt' is not defined\n",
    "\n",
    "Detailed traceback:\n",
    "  File \"<string>\", line 1, in <module>\n",
    "```\n",
    "\n",
    "The third histogram shows everything (background signal), except for nuclei and cytoplasm.\n",
    "\n",
    "To investigate correlations between the intensities, we can look at a scatter plot (below left, once you run the cell, below). This type of plot is generally useful for exploratory data analysis. \n",
    "\n",
    "<p style='text-align: justify;'>\n",
    "We can see that the scatter plot is quite dense, and it is not really possible to see how many points are present, at a given location. We can display this information with the two-dimensional histogram (below centre). This clearly shows the count of points that fall into a certain square of intensities. (Note the thin, yellow area towards the right margin).\n",
    "</p>\n",
    "\n",
    "### **Seaborn**\n",
    "<p style='text-align: justify;'>\n",
    "From a python plotting library called [seaborn](https://seaborn.pydata.org), we can import a function called `kdeplot`, which allows us to make a contour plot of the intensities. The contour plot confirms that there are at least two distinct distributions. Such a finding might inspire grouping the intensities into different categories, or clusters.\n",
    "</p>\n",
    "\n",
    "## Note\n",
    "This plot might take a bit longer to run, as there are a large number of data points. \n"
   ]
  },
  {
   "cell_type": "code",
   "execution_count": null,
   "id": "6e2af337",
   "metadata": {},
   "outputs": [],
   "source": [
    "#```{python}\n",
    "fig, ax = plt.subplots(1, 3, figsize=(20, 6))\n",
    "\n",
    "# Scatter plot\n",
    "ax[0].scatter(result[:,:,0].flatten(), result[:,:,2].flatten());\n",
    "\n",
    "# # 2D Histogram\n",
    "ax[1].hist2d(result[:,:,0].flatten(), result[:,:,2].flatten(), bins=50, vmax=50);\n",
    "\n",
    "from seaborn import kdeplot\n",
    "\n",
    " # Density Plot\n",
    "kdeplot(x=result[:,:,0].flatten(), y=result[:,:,2].flatten(), ax=ax[2]);\n",
    "\n",
    "plt.show()"
   ]
  },
  {
   "cell_type": "markdown",
   "id": "42703ea9",
   "metadata": {},
   "source": [
    "## Selecting part of an image\n",
    "\n",
    "It is also possible to analyse a small region of an image. The image can be cropped, and then analyses can be performed on the selected region.\n"
   ]
  },
  {
   "cell_type": "code",
   "execution_count": null,
   "id": "ba73f4a1",
   "metadata": {},
   "outputs": [],
   "source": [
    "# Annotating the regions\n",
    "from matplotlib.patches import Rectangle"
   ]
  },
  {
   "cell_type": "markdown",
   "id": "cac2b832",
   "metadata": {},
   "source": [
    "```{.error}\n",
    "Error in py_call_impl(callable, dots$args, dots$keywords): ModuleNotFoundError: No module named 'matplotlib'\n",
    "\n",
    "Detailed traceback:\n",
    "  File \"<string>\", line 1, in <module>\n",
    "  File \"/home/runner/.local/share/renv/cache/v5/R-4.2/x86_64-pc-linux-gnu/reticulate/1.24/ffdf27627a3c1537478073c43b6e7980/reticulate/python/rpytools/loader.py\", line 39, in _import_hook\n",
    "    module = _import(\n",
    "```"
   ]
  },
  {
   "cell_type": "code",
   "execution_count": null,
   "id": "339ad891",
   "metadata": {},
   "outputs": [],
   "source": [
    "x, y, w, h = 450, 10, 60, 50\n",
    "\n",
    "fig, ax = plt.subplots(dpi = 100)"
   ]
  },
  {
   "cell_type": "markdown",
   "id": "4ebf5fad",
   "metadata": {},
   "source": [
    "```{.error}\n",
    "Error in py_call_impl(callable, dots$args, dots$keywords): NameError: name 'plt' is not defined\n",
    "\n",
    "Detailed traceback:\n",
    "  File \"<string>\", line 1, in <module>\n",
    "```"
   ]
  },
  {
   "cell_type": "code",
   "execution_count": null,
   "id": "42c05c32",
   "metadata": {},
   "outputs": [],
   "source": [
    "plt.imshow(result)"
   ]
  },
  {
   "cell_type": "markdown",
   "id": "500ad74f",
   "metadata": {},
   "source": [
    "```{.error}\n",
    "Error in py_call_impl(callable, dots$args, dots$keywords): NameError: name 'plt' is not defined\n",
    "\n",
    "Detailed traceback:\n",
    "  File \"<string>\", line 1, in <module>\n",
    "```"
   ]
  },
  {
   "cell_type": "code",
   "execution_count": null,
   "id": "826e5cf9",
   "metadata": {},
   "outputs": [],
   "source": [
    "ax.add_patch(Rectangle((x,y), w, h, edgecolor=\"w\", fill=False));"
   ]
  },
  {
   "cell_type": "markdown",
   "id": "e637ba58",
   "metadata": {},
   "source": [
    "```{.error}\n",
    "Error in py_call_impl(callable, dots$args, dots$keywords): NameError: name 'ax' is not defined\n",
    "\n",
    "Detailed traceback:\n",
    "  File \"<string>\", line 1, in <module>\n",
    "```"
   ]
  },
  {
   "cell_type": "code",
   "execution_count": null,
   "id": "c4977969",
   "metadata": {},
   "outputs": [],
   "source": [
    "plt.show()"
   ]
  },
  {
   "cell_type": "markdown",
   "id": "fd2f247e",
   "metadata": {},
   "source": [
    "```{.error}\n",
    "Error in py_call_impl(callable, dots$args, dots$keywords): NameError: name 'plt' is not defined\n",
    "\n",
    "Detailed traceback:\n",
    "  File \"<string>\", line 1, in <module>\n",
    "```\n"
   ]
  },
  {
   "cell_type": "code",
   "execution_count": null,
   "id": "d29a2467",
   "metadata": {},
   "outputs": [],
   "source": [
    "# plot what's in box\n",
    "fig, ax = plt.subplots(dpi=100)\n",
    "plt.imshow(result[y:y+h, x:x+w,]);\n",
    "plt.axis('off')\n",
    "plt.show()"
   ]
  },
  {
   "cell_type": "markdown",
   "id": "d1418196",
   "metadata": {},
   "source": [
    "```{.error}\n",
    "Error in py_call_impl(callable, dots$args, dots$keywords): NameError: name 'plt' is not defined\n",
    "\n",
    "Detailed traceback:\n",
    "  File \"<string>\", line 1, in <module>\n",
    "```\n",
    "\n",
    "```{.error}\n",
    "Error in py_call_impl(callable, dots$args, dots$keywords): NameError: name 'plt' is not defined\n",
    "\n",
    "Detailed traceback:\n",
    "  File \"<string>\", line 1, in <module>\n",
    "```\n",
    "\n",
    "```{.error}\n",
    "Error in py_call_impl(callable, dots$args, dots$keywords): NameError: name 'plt' is not defined\n",
    "\n",
    "Detailed traceback:\n",
    "  File \"<string>\", line 1, in <module>\n",
    "```\n",
    "\n",
    "```{.error}\n",
    "Error in py_call_impl(callable, dots$args, dots$keywords): NameError: name 'plt' is not defined\n",
    "\n",
    "Detailed traceback:\n",
    "  File \"<string>\", line 1, in <module>\n",
    "```\n"
   ]
  },
  {
   "cell_type": "code",
   "execution_count": null,
   "id": "a7df82b6",
   "metadata": {},
   "outputs": [],
   "source": [
    "result[y:y+h, x:x+w, 0].shape\n",
    "result[:,:,0].shape"
   ]
  },
  {
   "cell_type": "markdown",
   "id": "793a74bb",
   "metadata": {},
   "source": [
    "```{.error}\n",
    "Error in py_call_impl(callable, dots$args, dots$keywords): NameError: name 'result' is not defined\n",
    "\n",
    "Detailed traceback:\n",
    "  File \"<string>\", line 1, in <module>\n",
    "```\n",
    "\n",
    "```{.error}\n",
    "Error in py_call_impl(callable, dots$args, dots$keywords): NameError: name 'result' is not defined\n",
    "\n",
    "Detailed traceback:\n",
    "  File \"<string>\", line 1, in <module>\n",
    "```\n",
    "\n",
    "The region in the rectangle does not have any cells. Plotting a histogram for this region versus full image will result in the following plot.\n"
   ]
  },
  {
   "cell_type": "code",
   "execution_count": null,
   "id": "7e3290b9",
   "metadata": {},
   "outputs": [],
   "source": [
    "# Plot histogram \n",
    "fig, axs = plt.subplots(2, sharex=True)\n",
    "\n",
    "axs[0].hist(result[:,:,0].ravel(), bins=30, label='intensity in all image');\n",
    "axs0_2 = axs[0].twinx()\n",
    "axs0_2.hist(result[y:y+h,x:x+w,0].ravel(), bins=3, color='r', alpha=0.3);\n",
    "axs[0].set_title('Nuclei')\n",
    "axs[0].legend()\n",
    "\n",
    "axs[1].hist(result[:,:,2].ravel(), bins=30);\n",
    "axs1_2 = axs[1].twinx()\n",
    "axs1_2.hist(result[y:y+h,x:x+w,2].ravel(), bins=3, color='r', alpha=0.3, label='intensity in ROI');\n",
    "axs[1].set_title('Cytoplasm')\n",
    "\n",
    "plt.legend()\n",
    "plt.show()"
   ]
  },
  {
   "cell_type": "markdown",
   "id": "8072e208",
   "metadata": {},
   "source": [
    "```{.error}\n",
    "Error in py_call_impl(callable, dots$args, dots$keywords): NameError: name 'plt' is not defined\n",
    "\n",
    "Detailed traceback:\n",
    "  File \"<string>\", line 1, in <module>\n",
    "```\n",
    "\n",
    "```{.error}\n",
    "Error in py_call_impl(callable, dots$args, dots$keywords): NameError: name 'axs' is not defined\n",
    "\n",
    "Detailed traceback:\n",
    "  File \"<string>\", line 1, in <module>\n",
    "```\n",
    "\n",
    "```{.error}\n",
    "Error in py_call_impl(callable, dots$args, dots$keywords): NameError: name 'axs' is not defined\n",
    "\n",
    "Detailed traceback:\n",
    "  File \"<string>\", line 1, in <module>\n",
    "```\n",
    "\n",
    "```{.error}\n",
    "Error in py_call_impl(callable, dots$args, dots$keywords): NameError: name 'axs0_2' is not defined\n",
    "\n",
    "Detailed traceback:\n",
    "  File \"<string>\", line 1, in <module>\n",
    "```\n",
    "\n",
    "```{.error}\n",
    "Error in py_call_impl(callable, dots$args, dots$keywords): NameError: name 'axs' is not defined\n",
    "\n",
    "Detailed traceback:\n",
    "  File \"<string>\", line 1, in <module>\n",
    "```\n",
    "\n",
    "```{.error}\n",
    "Error in py_call_impl(callable, dots$args, dots$keywords): NameError: name 'axs' is not defined\n",
    "\n",
    "Detailed traceback:\n",
    "  File \"<string>\", line 1, in <module>\n",
    "```\n",
    "\n",
    "```{.error}\n",
    "Error in py_call_impl(callable, dots$args, dots$keywords): NameError: name 'axs' is not defined\n",
    "\n",
    "Detailed traceback:\n",
    "  File \"<string>\", line 1, in <module>\n",
    "```\n",
    "\n",
    "```{.error}\n",
    "Error in py_call_impl(callable, dots$args, dots$keywords): NameError: name 'axs' is not defined\n",
    "\n",
    "Detailed traceback:\n",
    "  File \"<string>\", line 1, in <module>\n",
    "```\n",
    "\n",
    "```{.error}\n",
    "Error in py_call_impl(callable, dots$args, dots$keywords): NameError: name 'axs1_2' is not defined\n",
    "\n",
    "Detailed traceback:\n",
    "  File \"<string>\", line 1, in <module>\n",
    "```\n",
    "\n",
    "```{.error}\n",
    "Error in py_call_impl(callable, dots$args, dots$keywords): NameError: name 'axs' is not defined\n",
    "\n",
    "Detailed traceback:\n",
    "  File \"<string>\", line 1, in <module>\n",
    "```\n",
    "\n",
    "```{.error}\n",
    "Error in py_call_impl(callable, dots$args, dots$keywords): NameError: name 'plt' is not defined\n",
    "\n",
    "Detailed traceback:\n",
    "  File \"<string>\", line 1, in <module>\n",
    "```\n",
    "\n",
    "```{.error}\n",
    "Error in py_call_impl(callable, dots$args, dots$keywords): NameError: name 'plt' is not defined\n",
    "\n",
    "Detailed traceback:\n",
    "  File \"<string>\", line 1, in <module>\n",
    "```\n",
    "\n",
    "<p style='text-align: justify;'>\n",
    "This plot compares the intensity of the pixels in the total image (blue) to those in the region of interest (ROI) bounded by the rectangle. If we move the ROI over cells, we can see how this intensity changes.\n",
    "</p>"
   ]
  },
  {
   "cell_type": "markdown",
   "id": "9a8fb95a",
   "metadata": {},
   "source": [
    "## Do it Yourself - Exercise 3\n",
    "\n",
    "Move the rectangle towards left so that it have a few cells. Now plot the histogram again and see the differences."
   ]
  },
  {
   "cell_type": "markdown",
   "id": "6174386a",
   "metadata": {},
   "source": [
    "## DIY ANSWER\n",
    "\n",
    "\n",
    "\n"
   ]
  },
  {
   "cell_type": "markdown",
   "id": "c70981c0",
   "metadata": {},
   "source": [
    "## Do it Yourself - Exercise 4\n",
    "\n",
    "Repeat this process for other images (in the folder) and save 3-4 examples of cells with nuclei and cytoplasm marked\n"
   ]
  },
  {
   "cell_type": "markdown",
   "id": "48052575",
   "metadata": {},
   "source": [
    "## DIY ANSWER\n",
    "\n"
   ]
  },
  {
   "cell_type": "markdown",
   "id": "ee764b37",
   "metadata": {},
   "source": [
    "## Lunch Break\n",
    "\n",
    "## Image clustering\n",
    "\n",
    "[Clustering Methods](https://scikit-learn.org/stable/modules/clustering.html)"
   ]
  },
  {
   "cell_type": "markdown",
   "id": "f4655c33",
   "metadata": {},
   "source": [
    "![Methods Comparison](fig/ClusterMethods.png)\n",
    "![Success Comparison](fig/Clustering_comparison.png)\n"
   ]
  },
  {
   "cell_type": "code",
   "execution_count": null,
   "id": "251744b1",
   "metadata": {},
   "outputs": [],
   "source": [
    "# Preparing the data for clustering\n",
    "\n",
    "img1 = result[:,:,0].reshape(-1, 1)"
   ]
  },
  {
   "cell_type": "markdown",
   "id": "a13e2e30",
   "metadata": {},
   "source": [
    "```{.error}\n",
    "Error in py_call_impl(callable, dots$args, dots$keywords): NameError: name 'result' is not defined\n",
    "\n",
    "Detailed traceback:\n",
    "  File \"<string>\", line 1, in <module>\n",
    "```"
   ]
  },
  {
   "cell_type": "code",
   "execution_count": null,
   "id": "e0eb58cb",
   "metadata": {},
   "outputs": [],
   "source": [
    "img2 = result[:,:,2].reshape(-1, 1)"
   ]
  },
  {
   "cell_type": "markdown",
   "id": "f55c16f2",
   "metadata": {},
   "source": [
    "```{.error}\n",
    "Error in py_call_impl(callable, dots$args, dots$keywords): NameError: name 'result' is not defined\n",
    "\n",
    "Detailed traceback:\n",
    "  File \"<string>\", line 1, in <module>\n",
    "```"
   ]
  },
  {
   "cell_type": "code",
   "execution_count": null,
   "id": "39b303ff",
   "metadata": {},
   "outputs": [],
   "source": [
    "all_imgs = np.concatenate([img1, img2], axis=1)"
   ]
  },
  {
   "cell_type": "markdown",
   "id": "eb3be119",
   "metadata": {},
   "source": [
    "```{.error}\n",
    "Error in py_call_impl(callable, dots$args, dots$keywords): NameError: name 'np' is not defined\n",
    "\n",
    "Detailed traceback:\n",
    "  File \"<string>\", line 1, in <module>\n",
    "```"
   ]
  },
  {
   "cell_type": "code",
   "execution_count": null,
   "id": "4217eebc",
   "metadata": {},
   "outputs": [],
   "source": [
    "all_imgs.shape"
   ]
  },
  {
   "cell_type": "markdown",
   "id": "3e6ada38",
   "metadata": {},
   "source": [
    "```{.error}\n",
    "Error in py_call_impl(callable, dots$args, dots$keywords): NameError: name 'all_imgs' is not defined\n",
    "\n",
    "Detailed traceback:\n",
    "  File \"<string>\", line 1, in <module>\n",
    "```\n"
   ]
  },
  {
   "cell_type": "code",
   "execution_count": null,
   "id": "78433288",
   "metadata": {},
   "outputs": [],
   "source": [
    "# Import the clustering class\n",
    "from sklearn.mixture import GaussianMixture\n",
    "\n",
    "# Cluster the images and obtain the labels for each pixel"
   ]
  },
  {
   "cell_type": "markdown",
   "id": "232b1718",
   "metadata": {},
   "source": [
    "```{.error}\n",
    "Error in py_call_impl(callable, dots$args, dots$keywords): ModuleNotFoundError: No module named 'sklearn'\n",
    "\n",
    "Detailed traceback:\n",
    "  File \"<string>\", line 1, in <module>\n",
    "  File \"/home/runner/.local/share/renv/cache/v5/R-4.2/x86_64-pc-linux-gnu/reticulate/1.24/ffdf27627a3c1537478073c43b6e7980/reticulate/python/rpytools/loader.py\", line 39, in _import_hook\n",
    "    module = _import(\n",
    "```"
   ]
  },
  {
   "cell_type": "code",
   "execution_count": null,
   "id": "eeda9144",
   "metadata": {},
   "outputs": [],
   "source": [
    "n_components = 3\n",
    "\n",
    "RANDOM_STATE = 12345\n",
    "\n",
    "gmm = GaussianMixture(n_components=n_components, \n",
    "                      random_state=RANDOM_STATE)"
   ]
  },
  {
   "cell_type": "markdown",
   "id": "f321ae9b",
   "metadata": {},
   "source": [
    "```{.error}\n",
    "Error in py_call_impl(callable, dots$args, dots$keywords): NameError: name 'GaussianMixture' is not defined\n",
    "\n",
    "Detailed traceback:\n",
    "  File \"<string>\", line 1, in <module>\n",
    "```"
   ]
  },
  {
   "cell_type": "code",
   "execution_count": null,
   "id": "bdd5428c",
   "metadata": {},
   "outputs": [],
   "source": [
    "all_img_labels = gmm.fit_predict(all_imgs)"
   ]
  },
  {
   "cell_type": "markdown",
   "id": "39febfd0",
   "metadata": {},
   "source": [
    "```{.error}\n",
    "Error in py_call_impl(callable, dots$args, dots$keywords): NameError: name 'gmm' is not defined\n",
    "\n",
    "Detailed traceback:\n",
    "  File \"<string>\", line 1, in <module>\n",
    "```"
   ]
  },
  {
   "cell_type": "code",
   "execution_count": null,
   "id": "5bb6247b",
   "metadata": {},
   "outputs": [],
   "source": [
    "all_img_labels[0]"
   ]
  },
  {
   "cell_type": "markdown",
   "id": "6cc0b49e",
   "metadata": {},
   "source": [
    "```{.error}\n",
    "Error in py_call_impl(callable, dots$args, dots$keywords): NameError: name 'all_img_labels' is not defined\n",
    "\n",
    "Detailed traceback:\n",
    "  File \"<string>\", line 1, in <module>\n",
    "```\n"
   ]
  },
  {
   "cell_type": "code",
   "execution_count": null,
   "id": "a6f6c7ed",
   "metadata": {},
   "outputs": [],
   "source": [
    "fig, ax = plt.subplots(figsize=(6, 6))"
   ]
  },
  {
   "cell_type": "markdown",
   "id": "e36b71f1",
   "metadata": {},
   "source": [
    "```{.error}\n",
    "Error in py_call_impl(callable, dots$args, dots$keywords): NameError: name 'plt' is not defined\n",
    "\n",
    "Detailed traceback:\n",
    "  File \"<string>\", line 1, in <module>\n",
    "```"
   ]
  },
  {
   "cell_type": "code",
   "execution_count": null,
   "id": "db420e3b",
   "metadata": {},
   "outputs": [],
   "source": [
    "ax.scatter(img1[img1 > 0], img2[img2 > 0], c=all_img_labels, s=50)"
   ]
  },
  {
   "cell_type": "markdown",
   "id": "5ea43632",
   "metadata": {},
   "source": [
    "```{.error}\n",
    "Error in py_call_impl(callable, dots$args, dots$keywords): NameError: name 'ax' is not defined\n",
    "\n",
    "Detailed traceback:\n",
    "  File \"<string>\", line 1, in <module>\n",
    "```"
   ]
  },
  {
   "cell_type": "code",
   "execution_count": null,
   "id": "06ae6cdb",
   "metadata": {},
   "outputs": [],
   "source": [
    "ax.set_xlabel('Image 1', fontsize=16)"
   ]
  },
  {
   "cell_type": "markdown",
   "id": "17251673",
   "metadata": {},
   "source": [
    "```{.error}\n",
    "Error in py_call_impl(callable, dots$args, dots$keywords): NameError: name 'ax' is not defined\n",
    "\n",
    "Detailed traceback:\n",
    "  File \"<string>\", line 1, in <module>\n",
    "```"
   ]
  },
  {
   "cell_type": "code",
   "execution_count": null,
   "id": "a2ce429d",
   "metadata": {},
   "outputs": [],
   "source": [
    "ax.set_ylabel('Image 2', fontsize=16);"
   ]
  },
  {
   "cell_type": "markdown",
   "id": "f5aa8469",
   "metadata": {},
   "source": [
    "```{.error}\n",
    "Error in py_call_impl(callable, dots$args, dots$keywords): NameError: name 'ax' is not defined\n",
    "\n",
    "Detailed traceback:\n",
    "  File \"<string>\", line 1, in <module>\n",
    "```"
   ]
  },
  {
   "cell_type": "code",
   "execution_count": null,
   "id": "410a29b1",
   "metadata": {},
   "outputs": [],
   "source": [
    "plt.show()"
   ]
  },
  {
   "cell_type": "markdown",
   "id": "e43570b3",
   "metadata": {},
   "source": [
    "```{.error}\n",
    "Error in py_call_impl(callable, dots$args, dots$keywords): NameError: name 'plt' is not defined\n",
    "\n",
    "Detailed traceback:\n",
    "  File \"<string>\", line 1, in <module>\n",
    "```\n"
   ]
  },
  {
   "cell_type": "code",
   "execution_count": null,
   "id": "2f8113e9",
   "metadata": {},
   "outputs": [],
   "source": [
    "from numpy import zeros"
   ]
  },
  {
   "cell_type": "markdown",
   "id": "e5538690",
   "metadata": {},
   "source": [
    "```{.error}\n",
    "Error in py_call_impl(callable, dots$args, dots$keywords): ModuleNotFoundError: No module named 'numpy'\n",
    "\n",
    "Detailed traceback:\n",
    "  File \"<string>\", line 1, in <module>\n",
    "  File \"/home/runner/.local/share/renv/cache/v5/R-4.2/x86_64-pc-linux-gnu/reticulate/1.24/ffdf27627a3c1537478073c43b6e7980/reticulate/python/rpytools/loader.py\", line 39, in _import_hook\n",
    "    module = _import(\n",
    "```"
   ]
  },
  {
   "cell_type": "code",
   "execution_count": null,
   "id": "1546fb34",
   "metadata": {},
   "outputs": [],
   "source": [
    "mask = (data1>0) & (data3>0) "
   ]
  },
  {
   "cell_type": "markdown",
   "id": "7a56b139",
   "metadata": {},
   "source": [
    "```{.error}\n",
    "Error in py_call_impl(callable, dots$args, dots$keywords): NameError: name 'data1' is not defined\n",
    "\n",
    "Detailed traceback:\n",
    "  File \"<string>\", line 1, in <module>\n",
    "```"
   ]
  },
  {
   "cell_type": "code",
   "execution_count": null,
   "id": "d20b17ec",
   "metadata": {},
   "outputs": [],
   "source": [
    "all_img_labels_mapped = zeros(data1.shape)"
   ]
  },
  {
   "cell_type": "markdown",
   "id": "2418a501",
   "metadata": {},
   "source": [
    "```{.error}\n",
    "Error in py_call_impl(callable, dots$args, dots$keywords): NameError: name 'zeros' is not defined\n",
    "\n",
    "Detailed traceback:\n",
    "  File \"<string>\", line 1, in <module>\n",
    "```"
   ]
  },
  {
   "cell_type": "code",
   "execution_count": null,
   "id": "5877e35b",
   "metadata": {},
   "outputs": [],
   "source": [
    "all_img_labels_mapped[mask] = all_img_labels"
   ]
  },
  {
   "cell_type": "markdown",
   "id": "4e662c81",
   "metadata": {},
   "source": [
    "```{.error}\n",
    "Error in py_call_impl(callable, dots$args, dots$keywords): NameError: name 'all_img_labels' is not defined\n",
    "\n",
    "Detailed traceback:\n",
    "  File \"<string>\", line 1, in <module>\n",
    "```\n"
   ]
  },
  {
   "cell_type": "code",
   "execution_count": null,
   "id": "d6ad51b1",
   "metadata": {},
   "outputs": [],
   "source": [
    "fig, ax = plt.subplots(figsize=(6, 6))"
   ]
  },
  {
   "cell_type": "markdown",
   "id": "fb07781c",
   "metadata": {},
   "source": [
    "```{.error}\n",
    "Error in py_call_impl(callable, dots$args, dots$keywords): NameError: name 'plt' is not defined\n",
    "\n",
    "Detailed traceback:\n",
    "  File \"<string>\", line 1, in <module>\n",
    "```"
   ]
  },
  {
   "cell_type": "code",
   "execution_count": null,
   "id": "f7237e30",
   "metadata": {},
   "outputs": [],
   "source": [
    "ax.imshow(all_img_labels_mapped);"
   ]
  },
  {
   "cell_type": "markdown",
   "id": "07985f8d",
   "metadata": {},
   "source": [
    "```{.error}\n",
    "Error in py_call_impl(callable, dots$args, dots$keywords): NameError: name 'ax' is not defined\n",
    "\n",
    "Detailed traceback:\n",
    "  File \"<string>\", line 1, in <module>\n",
    "```"
   ]
  },
  {
   "cell_type": "code",
   "execution_count": null,
   "id": "9385ab23",
   "metadata": {},
   "outputs": [],
   "source": [
    "plt.show()"
   ]
  },
  {
   "cell_type": "markdown",
   "id": "2f70782f",
   "metadata": {},
   "source": [
    "```{.error}\n",
    "Error in py_call_impl(callable, dots$args, dots$keywords): NameError: name 'plt' is not defined\n",
    "\n",
    "Detailed traceback:\n",
    "  File \"<string>\", line 1, in <module>\n",
    "```\n",
    "\n",
    "The result depends critically on the specified number of clusters."
   ]
  },
  {
   "cell_type": "markdown",
   "id": "ef5eb757",
   "metadata": {},
   "source": [
    "## Do it Yourself - Exercise 5\n",
    "\n",
    "Change n_components to 2, 4, 5 and 6 and compare the results."
   ]
  },
  {
   "cell_type": "markdown",
   "id": "d8c1f800",
   "metadata": {},
   "source": [
    "## DIY ANSWER\n",
    "\n",
    "\n"
   ]
  },
  {
   "cell_type": "markdown",
   "id": "eb6d72e5",
   "metadata": {},
   "source": [
    "## Do it Yourself - Exercise 6\n",
    "\n",
    "Apply the Kmeans algorithm to the images and compare the result of the clustering for different choices of n_components.\n",
    "\n",
    "[Documentation](https://scikit-learn.org/stable/modules/generated/sklearn.cluster.KMeans.html)# To import:\n",
    "\n",
    "```\n",
    "# To import:\n",
    "from sklearn.cluster import KMeans\n",
    "```"
   ]
  },
  {
   "cell_type": "markdown",
   "id": "bae5306d",
   "metadata": {},
   "source": [
    "## DIY ANSWER\n",
    "\n",
    "\n"
   ]
  },
  {
   "cell_type": "markdown",
   "id": "bc51e2d9",
   "metadata": {},
   "source": [
    "## Tea Break\n",
    "\n",
    "## Segmentation\n",
    "\n",
    "Image segmentation allows us to locate objects and boundaries (lines, curves, *etc.*) within an image. Conventional methods make use of a threshold value to distinguish between different regions and/or cells. In this lesson, we will use a Python package called [**StarDist**](https://github.com/stardist/stardist), which makes use of deep learning methods to perform nuclei segmentation. It is designed particularly for nuclei segmentation. **StarDist** comes with pretrained models, that are likely suitable for your micrograph images. However, it is also possible to train your model specifically for your dataset.\n"
   ]
  },
  {
   "cell_type": "code",
   "execution_count": null,
   "id": "3a832215",
   "metadata": {},
   "outputs": [],
   "source": [
    "## Load as images - Using Raw images\n",
    "\n",
    "data1 = Image.open(ch1_files[0])\n",
    "\n",
    "nuclei = np.zeros(np.shape(im))\n",
    "nuclei[:, :, 0] = data1\n",
    "\n",
    "plt.figure(dpi=100)\n",
    "plt.imshow(nuclei.astype(int))\n",
    "plt.axis('off')\n",
    "\n",
    "plt.show()"
   ]
  },
  {
   "cell_type": "markdown",
   "id": "4a1b0b55",
   "metadata": {},
   "source": [
    "```{.error}\n",
    "Error in py_call_impl(callable, dots$args, dots$keywords): NameError: name 'Image' is not defined\n",
    "\n",
    "Detailed traceback:\n",
    "  File \"<string>\", line 1, in <module>\n",
    "```\n",
    "\n",
    "```{.error}\n",
    "Error in py_call_impl(callable, dots$args, dots$keywords): NameError: name 'np' is not defined\n",
    "\n",
    "Detailed traceback:\n",
    "  File \"<string>\", line 1, in <module>\n",
    "```\n",
    "\n",
    "```{.error}\n",
    "Error in py_call_impl(callable, dots$args, dots$keywords): NameError: name 'data1' is not defined\n",
    "\n",
    "Detailed traceback:\n",
    "  File \"<string>\", line 1, in <module>\n",
    "```\n",
    "\n",
    "```{.error}\n",
    "Error in py_call_impl(callable, dots$args, dots$keywords): NameError: name 'plt' is not defined\n",
    "\n",
    "Detailed traceback:\n",
    "  File \"<string>\", line 1, in <module>\n",
    "```\n",
    "\n",
    "```{.error}\n",
    "Error in py_call_impl(callable, dots$args, dots$keywords): NameError: name 'plt' is not defined\n",
    "\n",
    "Detailed traceback:\n",
    "  File \"<string>\", line 1, in <module>\n",
    "```\n",
    "\n",
    "```{.error}\n",
    "Error in py_call_impl(callable, dots$args, dots$keywords): NameError: name 'plt' is not defined\n",
    "\n",
    "Detailed traceback:\n",
    "  File \"<string>\", line 1, in <module>\n",
    "```\n",
    "\n",
    "```{.error}\n",
    "Error in py_call_impl(callable, dots$args, dots$keywords): NameError: name 'plt' is not defined\n",
    "\n",
    "Detailed traceback:\n",
    "  File \"<string>\", line 1, in <module>\n",
    "```"
   ]
  },
  {
   "cell_type": "markdown",
   "id": "83e92092",
   "metadata": {},
   "source": [
    "```\n",
    "from stardist.models import StarDist2D\n",
    "from stardist import random_label_cmap\n",
    "\n",
    "from csbdeep.utils import Path, normalize\n",
    "\n",
    "axis_norm = (0,1)   # normalize channels independently\n",
    "img = normalize(nuclei[:,:,0], 1,99.8, axis=axis_norm)\n",
    "\n",
    "model = StarDist2D.from_pretrained('2D_versatile_fluo')\n",
    "lbl_cmap = random_label_cmap()\n",
    "```\n",
    "<p style='text-align: justify;'>\n",
    "By running this Python code, you will see this message. This suggests that everything is working fine. The package **StarDist** requires the installation of a deep learning package **tensorflow**.\n",
    "</p>\n",
    "\n",
    "**Output**\n",
    "```\n",
    "Found model '2D_versatile_fluo' for 'StarDist2D'.\n",
    "Loading network weights from 'weights_best.h5'.\n",
    "Loading thresholds from 'thresholds.json'.\n",
    "Using default values: prob_thresh=0.479071, nms_thresh=0.3.\n",
    "```\n",
    "\n",
    "<p style='text-align: justify;'>\n",
    "In order to access pretrained models, the function *StarDist2D.from_pretrained()* provides a list from which a suitable model can be selected. There are two main types of models: one for fluorescent images, and the other for brightfield images. For our image, **StarDist** will perform nuclei prediction using *2D_versatile_fluo*.\n",
    "</p>\n",
    "\n",
    "The availbilty of pretrained models can be checked as follows:\n",
    "\n",
    "```\n",
    "StarDist2D.from_pretrained()\n",
    "```\n",
    "\n",
    "**Output**\n",
    "```\n",
    "There are 4 registered models for 'StarDist2D':\n",
    "\n",
    "Name                  Alias(es)\n",
    "             \n",
    "'2D_versatile_fluo'   'Versatile (fluorescent nuclei)'\n",
    "'2D_versatile_he'     'Versatile (H&E nuclei)'\n",
    "'2D_paper_dsb2018'    'DSB 2018 (from StarDist 2D paper)'\n",
    "'2D_demo'             None\n",
    "```\n",
    "\n",
    "```\n",
    "# Using pre-trained network to predict nuclei\n",
    "labels, details = model.predict_instances(img)\n",
    "```\n",
    "\n",
    "```\n",
    "## Show data\n",
    "\n",
    "fig, axs  = plt.subplots(1,2, dpi=200)\n",
    "axs[0].imshow(nuclei.astype(int))\n",
    "axs[0].axis('off')\n",
    "\n",
    "axs[1].imshow(nuclei.astype(int))\n",
    "axs[1].imshow(labels, cmap=lbl_cmap,alpha=0.5)\n",
    "axs[1].axis('off')\n",
    "\n",
    "```\n",
    "![](fig/seg1.png)\n",
    "<p style='text-align: justify;'>\n",
    "The image on the right is a segmented image, with correctly identified and predicted nuclei. This image is also referred to as a masked image. The next step will allow us to count the number of nuclei in this image, which is performed as follows:\n",
    "</p>\n",
    "\n",
    "```\n",
    "# Enumerate nuclei\n",
    "plt.figure(dpi=100)\n",
    "plt.imshow(nuclei.astype(int))\n",
    "\n",
    "for i, xy in enumerate(details['points']):\n",
    "    plt.annotate(str(i+1), [xy[1]+5,xy[0]], color='w', size=5)\n",
    "plt.axis('off')\n",
    "\n",
    "print(\"The total number of nuclei in the image are: \", len(details['points']))\n",
    "\n",
    "```\n",
    "\n",
    "```\n",
    "The total number of nuclei in the image are:  168\n",
    "```\n",
    "\n",
    "![](fig/seg3.png)"
   ]
  },
  {
   "cell_type": "markdown",
   "id": "d58f966c",
   "metadata": {},
   "source": [
    "## Do it Yourself - Exercise 7\n",
    "\n",
    "Repeat segmentation for other images."
   ]
  },
  {
   "cell_type": "markdown",
   "id": "52db2262",
   "metadata": {},
   "source": [
    "## DIY ANSWER\n",
    "\n"
   ]
  },
  {
   "cell_type": "markdown",
   "id": "3d428ef3",
   "metadata": {},
   "source": [
    "## Do it Yourself - Exercise 8\n",
    "\n",
    "Repeat segmentation for all 12 images and plot number of nuclei per image."
   ]
  },
  {
   "cell_type": "markdown",
   "id": "795b691d",
   "metadata": {},
   "source": [
    "## DIY ANSWER\n",
    "\n"
   ]
  },
  {
   "cell_type": "markdown",
   "id": "5dba6a35",
   "metadata": {},
   "source": [
    "## Do it Yourself - Exercise 9\n",
    "\n",
    "Repeat segmentation for cytoplasm channel, what do you notice? Explain your observation for any pecularities."
   ]
  },
  {
   "cell_type": "markdown",
   "id": "6a38b1fa",
   "metadata": {},
   "source": [
    "## DIY ANSWER\n",
    "\n",
    "\n",
    "\n",
    "\n",
    "\t\n"
   ]
  },
  {
   "cell_type": "markdown",
   "id": "27dc031f",
   "metadata": {},
   "source": [
    "<p style='text-align: justify;'>\n",
    "If you have done the above exercise of using **stardist** to perform segmentation for the cytoplasm channel, then you may have noticed pecularities. These can be justified by StarDist really only being designed for accurate segmentation of nuclei. However, if you are interested in cytoplasm segmentation, then using **cellpose** is better suited for this application. This Python package is more specialised, and better apllied to cell and nucleus segmentation. After completing this workshop, you will observe that **stardist** and **cellpose** both work in a similar fashion. For more information and documentation, please follow this [link](https://github.com/MouseLand/cellpose).\n",
    "</p>\n",
    "\n",
    "## Summary and Conclusions\n",
    "<p style='text-align: justify;'>\n",
    "In undertaking this workshop, we have learned to import, explore and analyse fluorescence microscopy images, and how to perform some basic image analyses using several packages, in Python. We have also learned how to perform clustering analyses, through implementing unsupervised machine learning algorithms (GMM). Further to this, we provided an introduction into the use of deep learning algorithms for use in nuclei segmentation, which can provide a fast, accurate and powerful count of the nuclei present in an image; this can be invaluable for analysing large amounts of data. Following the guided links, you can start to explore more advanced image analysis techniques, and *Learn To Discover* how these can help you further your own work, and reserach.\n",
    "</p>"
   ]
  },
  {
   "cell_type": "markdown",
   "id": "7cfc941b",
   "metadata": {},
   "source": [
    "- Use `.md` files for episodes when you want static content\n",
    "- Use `.Rmd` files for episodes when you need to generate output\n",
    "- Run `sandpaper::check_lesson()` to identify any issues with your lesson\n",
    "- Run `sandpaper::build_lesson()` to preview your lesson locally"
   ]
  },
  {
   "cell_type": "markdown",
   "id": "7cc482c2",
   "metadata": {},
   "source": [
    "[r-markdown]: https://rmarkdown.rstudio.com/"
   ]
  }
 ],
 "metadata": {
  "jupytext": {
   "cell_metadata_filter": "-all",
   "main_language": "python",
   "notebook_metadata_filter": "-all"
  }
 },
 "nbformat": 4,
 "nbformat_minor": 5
}

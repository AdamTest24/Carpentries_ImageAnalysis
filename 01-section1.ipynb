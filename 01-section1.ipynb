{
 "cells": [
  {
   "cell_type": "raw",
   "id": "4a631a2c",
   "metadata": {},
   "source": [
    "---\n",
    "title: \"Microscopic Image Analysis\"\n",
    "teaching: 10\n",
    "exercises: 2\n",
    "---"
   ]
  },
  {
   "cell_type": "markdown",
   "id": "5c648515",
   "metadata": {},
   "source": [
    "[**Download Chapter notebook (ipynb)**](01-section1.ipynb)\n",
    "\n",
    "[**Download Chapter pdf**](01-section1.md.pdf)"
   ]
  },
  {
   "cell_type": "markdown",
   "id": "4c22e35e",
   "metadata": {},
   "source": [
    "- How to work with image data?\n",
    "- What are different ways to explore and visualise image data?\n",
    "- How is image clustering performed?\n",
    "- How can we perform nuclei segmentation?\n"
   ]
  },
  {
   "cell_type": "markdown",
   "id": "5888a17d",
   "metadata": {},
   "source": [
    "- Basic image handling: reading in image files, and how to convert them into numerical arrays.\n",
    "- Measurement of pixel intensity, plotting these data as histograms, and learning how to equalise these intensity values across an image.\n",
    "- OpenCV to normalise pixel intensities of an image.\n",
    "- Constructing and interpreting scatter plots of pixel intensities.\n",
    "- Selecting and zooming in on specific parts of an image, for analyses.\n",
    "- Clustering of images to identify and isolate objects.\n",
    "- Counting nuclei *via* image segmentation, targeting cell nuclei using StarDist.\n",
    "\n"
   ]
  },
  {
   "cell_type": "markdown",
   "id": "5b50ef9b",
   "metadata": {},
   "source": [
    "## **Why is Image Analysis important?**\n",
    "Image Analysis extracts meaningful data and can be useful in many different applications. Such as:\n",
    "\n",
    "1. Analysing fluorescent digital slides, which can help to quantify the area of staining of a particular biomarker.\n",
    "\n",
    "2. Image analysis tools can help to automate repetitive processes, and provide quantitative data that is accurate and reproducible: beyond the capabilities of manual microscopy.\n",
    "\n",
    "3. Image analyses performed on fluorescent micrographs can help answer questions such as: \n",
    "\n",
    "  - How much area of a tissue sample is stained for a particular biomarker? \n",
    "\n",
    "  - What is the average intensity of a biomarker staining throughout the sample? \n",
    "  \n",
    "  - Do multiple biomarkers co-localize in the tissue, or within individual cells? If so, to what extent?"
   ]
  },
  {
   "cell_type": "markdown",
   "id": "8f6edd04",
   "metadata": {},
   "source": [
    "### **What is an image?**\n",
    "  \n",
    "Images are essentially a matrix in which each index is assigned a number, representing the value at that specific point. \n",
    "<p style='text-align: justify;'>\n",
    "These indices, more commonly called pixels, are a measure of how many photons hit that particular position on the camera sensor. As these images are matrices, we can do many of the same mathematical operations on images as we do on matrices. However, we don't want to manually generate every image by populating a matrix. This means that we will have to have some manner of interacting with image files on our computer, programmatically. \n",
    "</p>\n",
    "<p style='text-align: justify;'>\n",
    "For all scientific images, you should save them in a file format that minimizes the data lost due to compression. In the field of image analysis, the most common file format you will run into is the Tagged Image File Format (.tiff or .tif) which is a lossless compression format. \n",
    "</p>\n",
    "<p style='text-align: justify;'>\n",
    "In this tutorial, we will learn how to load, manipulate and extract quantitative data from microscopy images. The data set used in this experiment has been taken from [Broad Bioimage Benchmark Collection](https://bbbc.broadinstitute.org/BBBC008) and presents *Human HT29 colon-cancer cells*.\n",
    "</p>\n",
    "\n",
    "### **Images in dataset**\n",
    "<p style='text-align: justify;'>\n",
    "The image set consists of 12 individual images. The samples were stained with Hoechst (channel 1), pH3 (channel 2), and phalloidin (channel 3). Hoechst labels DNA, which is present in the nucleus. Phalloidin labels actin, which is present in the cytoplasm. The last stain - pH3 - is used to indicate cells in mitosis, and is irrelevant for segmentation and counting, so this channel will be omitted. In this tutorial we will be exploring channel 1 for nuclei, and channel 3 for the cytoplasm.\n",
    "</p>\n",
    "\n",
    "### **Packages**\n",
    "<p style='text-align: justify;'>\n",
    "There are several image processing libraries available in Python, such as *Python Imaging Library*, *Sci-kit Image*, *Scipy.ndimage* and *Open CV*. While each have their own features, they all have the same (or at least very similar) utilities. In this lesson, we will be using the *Python Imaging Library* and *Sci-kit Image*, as these have everything we require, packaged together in easy-to-use functions.\n",
    "</p>\n",
    "<p style='text-align: justify;'>\n",
    "The *Python Imaging Library (PIL)* has a large number of modules and submodules. Each submodule has an array of functions associated with a certain type of operation. For example, we will be using module **Image** which provides a number of factory functions, including functions to load images from files, and to create new images.\n",
    "</p>\n",
    "For other basic processing and plotting in Python, the scientific packages Numpy and Matplotlib are needed.\n",
    "\n"
   ]
  },
  {
   "cell_type": "markdown",
   "id": "8bafaf04",
   "metadata": {},
   "source": [
    "In a blank Jupyter Notebook, open a new cell, and write your own Python code to import the following packages and modules:\n",
    "\n",
    "- Import pyplot as plt from matplotlib\n",
    "- Import numpy\n",
    "- Import glob\n",
    "- From PIL, we need the Image module\n",
    "- From skimage, we need the exposure module\n"
   ]
  },
  {
   "cell_type": "code",
   "execution_count": null,
   "id": "61f885df",
   "metadata": {},
   "outputs": [],
   "source": [
    "# Loading the packages\n",
    "\n",
    "from PIL import Image # Python Image Library (Pillow)\n",
    "from skimage import exposure\n",
    "\n",
    "import matplotlib.pyplot as plt\n",
    "import numpy as np\n",
    "\n",
    "import glob"
   ]
  },
  {
   "cell_type": "markdown",
   "id": "1d2b5800",
   "metadata": {},
   "source": [
    "## Loading images\n",
    "To begin, let's read in all the images from a directory, and then load an image into memory using the **open** function from the **Image** module of *Python Imaging Library*. This function opens and identifies the given image file.\n"
   ]
  },
  {
   "cell_type": "code",
   "execution_count": null,
   "id": "e6cfef51",
   "metadata": {},
   "outputs": [],
   "source": [
    "## Get image files\n",
    "\n",
    "ch1_files = glob.glob('data/human_ht29_colon_cancer_2_images/*_channel1.tif') # channel 1 image - nuclei\n",
    "ch3_files = glob.glob('data/human_ht29_colon_cancer_2_images/*_channel3.tif') # channel 3 image - cytoplasm\n",
    "\n",
    "## Check they are correctly paired\n",
    "print(ch1_files[0], \":\", ch3_files[0], \"\\n\")\n",
    "\n",
    "## Sort files\n",
    "\n",
    "ch1_files.sort()\n",
    "ch3_files.sort()\n",
    "\n",
    "## Check they are correctly paired\n",
    "print(\"Correctly paired .... \\n\")\n",
    "print(ch1_files[0], \":\", ch3_files[0], \"\\n\") # First file\n",
    "print(ch1_files[11], \":\", ch3_files[11], \"\\n\") # Last file\n",
    "\n",
    "## Load the first image\n",
    "\n",
    "im1 = Image.open(ch1_files[0])\n",
    "im3 = Image.open(ch3_files[0])"
   ]
  },
  {
   "cell_type": "markdown",
   "id": "33b9959b",
   "metadata": {},
   "source": [
    "```{.output}\n",
    "data/human_ht29_colon_cancer_2_images/AS_09125_050116000001_A24f00d0_slice1_channel1.tif : data/human_ht29_colon_cancer_2_images/AS_09125_050116000001_L15f00d0_slice2_channel3.tif \n",
    "\n",
    "Correctly paired .... \n",
    "\n",
    "data/human_ht29_colon_cancer_2_images/AS_09125_050116000001_A24f00d0_slice1_channel1.tif : data/human_ht29_colon_cancer_2_images/AS_09125_050116000001_A24f00d0_slice1_channel3.tif \n",
    "\n",
    "data/human_ht29_colon_cancer_2_images/AS_09125_050116000001_L15f00d0_slice6_channel1.tif : data/human_ht29_colon_cancer_2_images/AS_09125_050116000001_L15f00d0_slice6_channel3.tif \n",
    "```\n"
   ]
  },
  {
   "cell_type": "code",
   "execution_count": null,
   "id": "a4164957",
   "metadata": {},
   "outputs": [],
   "source": [
    "## Show Data\n",
    "\n",
    "fig, axs = plt.subplots(1,2, dpi = 300, figsize=(6, 6))\n",
    "\n",
    "axs[0].imshow(im1);\n",
    "axs[0].axis('off')\n",
    "\n",
    "axs[1].imshow(im3);\n",
    "axs[1].axis('off');"
   ]
  },
  {
   "cell_type": "markdown",
   "id": "e3d0af28",
   "metadata": {},
   "source": [
    "```{.output}\n",
    "(-0.5, 511.5, 511.5, -0.5)\n",
    "```\n",
    "\n",
    "![](fig/img1.png)\n"
   ]
  },
  {
   "cell_type": "code",
   "execution_count": null,
   "id": "711044c1",
   "metadata": {},
   "outputs": [],
   "source": [
    "type(im1)"
   ]
  },
  {
   "cell_type": "markdown",
   "id": "9e670b65",
   "metadata": {},
   "source": [
    "```{.output}\n",
    "<class 'PIL.TiffImagePlugin.TiffImageFile'>\n",
    "```\n",
    "\n",
    "<p style='text-align: justify;'>\n",
    "The above command shows the type of image object im1. In order to perform any analyses, we need to have the numerical information of an image, which exists as arrays. The arrays are implemented by a package called Numpy, which is foundational to the entire scientific Python ecosystem. As soon as we perform numerical computations, we use data in the form of Numpy arrays.\n",
    "</p>\n",
    "\n",
    "Below, we convert the image object into an array, as follows:\n",
    "  "
   ]
  },
  {
   "cell_type": "code",
   "execution_count": null,
   "id": "3a4eadbc",
   "metadata": {},
   "outputs": [],
   "source": [
    "## Convert image to array\n",
    "\n",
    "data1 = np.asarray(im1)\n",
    "data3 = np.asarray(im3)\n",
    "\n",
    "print('Image has', data1.shape[0], 'by', data1.shape[1], 'pixels') # check the shape of array\n",
    "print('')\n",
    "print('Total number of pixels is', data1.size) # check the size of array"
   ]
  },
  {
   "cell_type": "markdown",
   "id": "9048a091",
   "metadata": {},
   "source": [
    "```{.output}\n",
    "Image has 512 by 512 pixels\n",
    "\n",
    "Total number of pixels is 262144\n",
    "```\n"
   ]
  },
  {
   "cell_type": "code",
   "execution_count": null,
   "id": "6113d351",
   "metadata": {},
   "outputs": [],
   "source": [
    "# Check the content of the array\n",
    "\n",
    "print(data1)\n",
    "print('')\n",
    "print(data1[10:20, 10:20])\n",
    "print('')\n",
    "print('Array type:', type(data1))\n",
    "print('Data type: ',  data1.dtype)"
   ]
  },
  {
   "cell_type": "markdown",
   "id": "e4cc9a55",
   "metadata": {},
   "source": [
    "```{.output}\n",
    "[[11 11 11 ...  9 10 10]\n",
    " [12 11 11 ... 10  9 11]\n",
    " [11 11 11 ... 10 11 10]\n",
    " ...\n",
    " [11 11 11 ... 10 10 10]\n",
    " [12 11 11 ...  9 10 10]\n",
    " [11 11 11 ... 10 10 10]]\n",
    "\n",
    "[[128 150 137 100  53  27  18  14  12  10]\n",
    " [155 177 172 136  73  38  21  15  11  11]\n",
    " [140 146 154 144  96  50  24  15  13  11]\n",
    " [133 144 139 122  95  55  26  15  13  11]\n",
    " [114 117 122 103  78  46  22  14  11  10]\n",
    " [ 79  87  97  78  54  32  18  12  11  12]\n",
    " [ 48  54  53  46  27  20  14  12  10  11]\n",
    " [ 20  22  23  20  15  13  13  11  11  11]\n",
    " [ 17  16  15  14  13  11  11  11  10  12]\n",
    " [ 12  14  14  13  14  12  12  12  11  11]]\n",
    "\n",
    "Array type: <class 'numpy.ndarray'>\n",
    "Data type:  uint8\n",
    "```\n",
    "\n",
    "<p style='text-align: justify;'>\n",
    "The type function has returned numpy.ndarray where nd stands for n-dimensional, as Numpy can handle data of any dimension. The above output only shows us a fraction of the image, with the ```...``` indicating non-displayed values. We can also observe `dtype`, which tells us the type of the pixels within the array. The variable data1 is an array, but its content can vary: we could have floating point values, integers *etc*. Here, uint8 tells us we have unsigned (no negative values) integers in 8 bit, *i.e.* up to $2^8$ different possible pixel values.\n",
    "</p>\n",
    "<p style='text-align: justify;'>\n",
    "In microscopy, the fluorescent images are labelled with three colours: red, green and blue (RGB). An RGB image is simply a stack of three two-dimensional arrays. The image in the first dimension will have a red colour map, the second a green colour map, and the third a blue colour map. In this dataset, channel 1 (nuclei) is labelled red, and channel 3 (cytoplasm) is labelled blue; channel 2 is empty. We will now combine the data of these two images into a single array, and into a single image.\n",
    "</p>\n"
   ]
  },
  {
   "cell_type": "code",
   "execution_count": null,
   "id": "95f1962b",
   "metadata": {
    "lines_to_next_cell": 2
   },
   "outputs": [],
   "source": [
    "# Combine data of two images\n",
    "data = np.zeros((data1.shape[0], data1.shape[0], 3)) # 3 two-dimensional arrays; 1 for each channel\n",
    "data[:,:,0] = data1 # Assigning image 1 as first channel\n",
    "data[:,:,2] = data3 # Assigning image 3 as 3rd/last channel\n",
    "\n",
    "# Converting numeric data to image\n",
    "im = Image.fromarray(np.uint8(data)) "
   ]
  },
  {
   "cell_type": "code",
   "execution_count": null,
   "id": "b163ccc4",
   "metadata": {},
   "outputs": [],
   "source": [
    "# Show combined data\n",
    "fig, axs = plt.subplots(1, 3, dpi = 400)\n",
    "\n",
    "axs[0].imshow(data1);\n",
    "axs[0].axis('off');\n",
    "\n",
    "axs[1].imshow(data3);\n",
    "axs[1].axis('off');\n",
    "\n",
    "axs[2].imshow(im); # Combined image\n",
    "axs[2].axis('off')"
   ]
  },
  {
   "cell_type": "markdown",
   "id": "c1005333",
   "metadata": {},
   "source": [
    "```{.output}\n",
    "(-0.5, 511.5, 511.5, -0.5)\n",
    "```\n",
    "\n",
    "![](fig/img3.png)\n",
    "\n",
    "and enlarged:\n",
    "  \n",
    "```\n",
    "im\n",
    "```\n",
    "![](fig/combined.png)\n",
    "The combined image shows red (nuclei) and blue (cytoplasm) colors.\n",
    "\n",
    "## Data Exploration\n",
    "<p style='text-align: justify;'>\n",
    "In image analysis, one of the most common tasks is to look at the distribution of pixel intensities, and display this as a histogram. For example: we can count how many times each pixel value (or range) appears in an image, and display this as a bar. This allows us to get a quick estimate of the intensities present in an image and to check for problems like saturation. We are going to plot the intensities of channel 1 and 3 as histograms.  \n",
    "</p>\n",
    "\n",
    "<p style='text-align: justify;'>\n",
    "We have already demonstrated that we can use Matplotlib’s `imshow` function to display an image. Now we look at a second plotting function from that library, which generates a histogram plt.hist(). We are aiming to compute the histogram on all pixels, and for this we cannot use our 2D image as an input. The image needs to first be flattened into a single series of numbers. This can be done with the ravel() method of the array:\n",
    "</p>\n"
   ]
  },
  {
   "cell_type": "code",
   "execution_count": null,
   "id": "5fe2cd62",
   "metadata": {},
   "outputs": [],
   "source": [
    "# Plot histogram\n",
    "fig, axs = plt.subplots(2, sharex=True, sharey=True)\n",
    "\n",
    "axs[0].hist(data1.ravel(), bins=100);\n",
    "axs[0].set_title(\"nuclei\");\n",
    "axs[0].set_xlim(0,40)\n",
    "\n",
    "axs[1].hist(data3.ravel(), bins=100);\n",
    "axs[1].set_title(\"cytoplasm\");\n",
    "axs[1].set_xlim(0,40)\n",
    "\n",
    "plt.show()\n",
    "\n",
    "print(data1.max(), \":\", data3.max())"
   ]
  },
  {
   "cell_type": "markdown",
   "id": "e3a0b44a",
   "metadata": {},
   "source": [
    "```{.output}\n",
    "(0.0, 40.0)\n",
    "(0.0, 40.0)\n",
    "```\n",
    "\n",
    "<img src=\"fig/01-section1-rendered-unnamed-chunk-9-1.png\" width=\"672\" style=\"display: block; margin: auto;\" />\n",
    "\n",
    "```{.output}\n",
    "255 : 122\n",
    "```\n",
    "\n",
    "<p style='text-align: justify;'>\n",
    "The histograms show that there is a very high intensity of fluorescence for nuclei, relative to the cytoplasm, and this is the reason that red is more evident on the image, compared to blue. The intensities can be equalised by using a function *exposure.equalize_hist* from the **exposure** module in skimage library. This function returns an image which can then be used to plot a histogram.\n",
    "</p>\n"
   ]
  },
  {
   "cell_type": "code",
   "execution_count": null,
   "id": "c1f8ae6e",
   "metadata": {},
   "outputs": [],
   "source": [
    "# Equalize histogram \n",
    "from skimage import exposure\n",
    "\n",
    "img_eq = exposure.equalize_hist(data)\n",
    "\n",
    "plt.figure(dpi=100)\n",
    "plt.imshow(img_eq)\n",
    "plt.axis('off')\n",
    "plt.show()"
   ]
  },
  {
   "cell_type": "markdown",
   "id": "0afd2cae",
   "metadata": {},
   "source": [
    "```{.output}\n",
    "/home/runner/.virtualenvs/carp-env/lib/python3.10/site-packages/skimage/_shared/utils.py:394: UserWarning: This might be a color image. The histogram will be computed on the flattened image. You can instead apply this function to each color channel, or set channel_axis.\n",
    "  return func(*args, **kwargs)\n",
    "(-0.5, 511.5, 511.5, -0.5)\n",
    "```\n",
    "\n",
    "<img src=\"fig/01-section1-rendered-unnamed-chunk-10-3.png\" width=\"672\" style=\"display: block; margin: auto;\" />"
   ]
  },
  {
   "cell_type": "markdown",
   "id": "585e3958",
   "metadata": {},
   "source": [
    "## Do it Yourself - Exercise 1\n",
    "\n",
    "Plot a histogram for equalised image, and show intensities of nuclei and cytoplasm."
   ]
  },
  {
   "cell_type": "markdown",
   "id": "e70fc06a",
   "metadata": {},
   "source": [
    "## DIY ANSWER\n",
    "\n",
    "\n"
   ]
  },
  {
   "cell_type": "markdown",
   "id": "aa010996",
   "metadata": {},
   "source": [
    "### **OpenCV**\n",
    "<p style='text-align: justify;'>\n",
    "To demonstrate the vast functionality available in Python, we will take a look at __OpenCV__. OpenCV (Open Source Computer Vision Library: http://opencv.org); an open-source library that includes several hundred computer vision algorithms.\n",
    "</p>\n",
    "<p style='text-align: justify;'>\n",
    "As an example, we can use functions to flexibly rescale our image data. This helps to enhance visibility of features that are limited to a narrow range of intensities. Mathematical normalisation can be performed on whole images, or with respect to a single channel. In the following example, we normalise the whole image with respect to channel 1. To do so, we calculate the mean and standard deviation of the pixel intensities of channel 1, clip the image to plus / minus the values obtained (which preserves most of the intensities) and then rescale the result to values between 0 and 255 for full image resolution.\n",
    "</p>\n",
    "\n"
   ]
  },
  {
   "cell_type": "code",
   "execution_count": null,
   "id": "7dcd055b",
   "metadata": {
    "lines_to_next_cell": 2
   },
   "outputs": [],
   "source": [
    "# Normalise to a different channel\n",
    "\n",
    "import cv2\n",
    "\n",
    "# Calculate mean and STD of nuclei image, channel 1\n",
    "mean, STD = cv2.meanStdDev(data1)\n",
    "\n",
    "# Clip frame to lower and upper STD\n",
    "data_clipped = np.clip(data, mean - STD, mean + STD).astype(np.uint8)\n",
    "\n",
    "# Normalise to range\n",
    "data_clipped_normalised = cv2.normalize(data_clipped, None, alpha=0, beta=255, norm_type=cv2.NORM_MINMAX)\n",
    "\n",
    "# Rename the results of normalisation\n",
    "result = data_clipped_normalised"
   ]
  },
  {
   "cell_type": "code",
   "execution_count": null,
   "id": "9e96c331",
   "metadata": {},
   "outputs": [],
   "source": [
    "fig, ax = plt.subplots(ncols=2)\n",
    "\n",
    "ax[0].boxplot(data[:,:,0].ravel());\n",
    "ax[0].set_xlabel('Original Intensities')\n",
    "ax[1].boxplot(data_clipped[:,:,0].ravel());\n",
    "ax[1].set_xlabel('Clipped Intensities');\n",
    "\n",
    "plt.show()\n",
    "#fig.savefig('clipped.png')"
   ]
  },
  {
   "cell_type": "markdown",
   "id": "9ac9b37f",
   "metadata": {},
   "source": [
    "<img src=\"fig/01-section1-rendered-unnamed-chunk-12-5.png\" width=\"672\" style=\"display: block; margin: auto;\" />\n"
   ]
  },
  {
   "cell_type": "code",
   "execution_count": null,
   "id": "2b24b49f",
   "metadata": {},
   "outputs": [],
   "source": [
    "# Plot normalised image\n",
    "fig, ax = plt.subplots(ncols=2, figsize=(6,6), dpi=200)\n",
    "\n",
    "ax[0].imshow(im);\n",
    "ax[0].set_xticks((0, data.shape[0]));\n",
    "ax[0].set_yticks([]);\n",
    "ax[0].set_xlabel('Original')\n",
    "\n",
    "ax[1].imshow(result);\n",
    "ax[1].set_xticks((0, data.shape[0]));\n",
    "ax[1].set_yticks([]);\n",
    "ax[1].set_xlabel('with normalisation');"
   ]
  },
  {
   "cell_type": "markdown",
   "id": "bc739d41",
   "metadata": {},
   "source": [
    "![](fig/norm.png)"
   ]
  },
  {
   "cell_type": "markdown",
   "id": "849a0cba",
   "metadata": {},
   "source": [
    "## Do it Yourself - Exercise 2\n",
    "\n",
    "Normalise the combined image with respect to cytoplasm."
   ]
  },
  {
   "cell_type": "markdown",
   "id": "2b754550",
   "metadata": {},
   "source": [
    "## DIY ANSWER\n",
    "\n"
   ]
  },
  {
   "cell_type": "markdown",
   "id": "0d68ee14",
   "metadata": {},
   "source": [
    "## Tea Break\n",
    "\n",
    "## Data Visualisation\n",
    "\n",
    "Now we can plot histograms of the normalised intensities in channel 1, channel 3, and the background.\n"
   ]
  },
  {
   "cell_type": "code",
   "execution_count": null,
   "id": "09a91d2a",
   "metadata": {},
   "outputs": [],
   "source": [
    "# Plot histograms\n",
    "fig, axs = plt.subplots(3, sharex=True, sharey=True)\n",
    "\n",
    "axs[0].hist(result[:,:,0].ravel(), bins=30);\n",
    "axs[0].set_title('Nuclei')\n",
    "\n",
    "axs[1].hist(result[:,:,2].ravel(), bins=30);\n",
    "axs[1].set_title('Cytoplasm')\n",
    "\n",
    "axs[2].hist(result[:,:,2].ravel() - result[:,:,0].ravel(), bins=30);\n",
    "axs[2].set_title('Cytoplasm - Nuclei')\n",
    "\n",
    "fig.tight_layout();\n",
    "\n",
    "plt.show()"
   ]
  },
  {
   "cell_type": "markdown",
   "id": "e33353ac",
   "metadata": {},
   "source": [
    "<img src=\"fig/01-section1-rendered-unnamed-chunk-14-7.png\" width=\"672\" style=\"display: block; margin: auto;\" />\n",
    "\n",
    "The third histogram shows everything (background signal), except for nuclei and cytoplasm.\n",
    "\n",
    "To investigate correlations between the intensities, we can look at a scatter plot (below left, once you run the cell, below). This type of plot is generally useful for exploratory data analysis. \n",
    "\n",
    "<p style='text-align: justify;'>\n",
    "We can see that the scatter plot is quite dense, and it is not really possible to see how many points are present, at a given location. We can display this information with the two-dimensional histogram (below centre). This clearly shows the count of points that fall into a certain square of intensities. (Note the thin, yellow area towards the right margin).\n",
    "</p>\n",
    "\n",
    "### **Seaborn**\n",
    "<p style='text-align: justify;'>\n",
    "From a python plotting library called [seaborn](https://seaborn.pydata.org), we can import a function called `kdeplot`, which allows us to make a contour plot of the intensities. The contour plot confirms that there are at least two distinct distributions. Such a finding might inspire grouping the intensities into different categories, or clusters.\n",
    "</p>\n",
    "\n",
    "## Note\n",
    "This plot might take a bit longer to run, as there are a large number of data points. \n"
   ]
  },
  {
   "cell_type": "code",
   "execution_count": null,
   "id": "7596d88b",
   "metadata": {},
   "outputs": [],
   "source": [
    "\n",
    "fig, ax = plt.subplots(1, 3, figsize=(20, 6))\n",
    "\n",
    "# Scatter plot\n",
    "ax[0].scatter(result[:,:,0].flatten(), result[:,:,2].flatten());\n",
    "\n",
    "# # 2D Histogram\n",
    "ax[1].hist2d(result[:,:,0].flatten(), result[:,:,2].flatten(), bins=50, vmax=50);\n",
    "\n",
    "from seaborn import kdeplot\n",
    "\n",
    "# Density Plot\n",
    "kdeplot(x=result[:,:,0].flatten(), y=result[:,:,2].flatten(), ax=ax[2]);\n",
    "\n",
    "plt.show()"
   ]
  },
  {
   "cell_type": "markdown",
   "id": "0c5f47f8",
   "metadata": {},
   "source": [
    "<img src=\"fig/01-section1-rendered-unnamed-chunk-15-9.png\" width=\"1920\" style=\"display: block; margin: auto;\" />\n",
    "\n",
    "## Selecting part of an image\n",
    "\n",
    "It is also possible to analyse a small region of an image. The image can be cropped, and then analyses can be performed on the selected region.\n"
   ]
  },
  {
   "cell_type": "code",
   "execution_count": null,
   "id": "8bce5393",
   "metadata": {},
   "outputs": [],
   "source": [
    "# Annotating the regions\n",
    "from matplotlib.patches import Rectangle\n",
    "\n",
    "x, y, w, h = 450, 10, 60, 50\n",
    "\n",
    "fig, ax = plt.subplots(dpi = 100)\n",
    "\n",
    "plt.imshow(result)\n",
    "\n",
    "ax.add_patch(Rectangle((x,y), w, h, edgecolor=\"w\", fill=False));\n",
    "\n",
    "plt.show()"
   ]
  },
  {
   "cell_type": "markdown",
   "id": "046ced7f",
   "metadata": {},
   "source": [
    "<img src=\"fig/01-section1-rendered-unnamed-chunk-16-11.png\" width=\"672\" style=\"display: block; margin: auto;\" />\n"
   ]
  },
  {
   "cell_type": "code",
   "execution_count": null,
   "id": "38750170",
   "metadata": {},
   "outputs": [],
   "source": [
    "# plot what's in box\n",
    "fig, ax = plt.subplots(dpi=100)\n",
    "plt.imshow(result[y:y+h, x:x+w,]);\n",
    "plt.axis('off')\n",
    "plt.show()"
   ]
  },
  {
   "cell_type": "markdown",
   "id": "d921a433",
   "metadata": {},
   "source": [
    "```{.output}\n",
    "(-0.5, 59.5, 49.5, -0.5)\n",
    "```\n",
    "\n",
    "<img src=\"fig/01-section1-rendered-unnamed-chunk-17-13.png\" width=\"672\" style=\"display: block; margin: auto;\" />\n"
   ]
  },
  {
   "cell_type": "code",
   "execution_count": null,
   "id": "f0511256",
   "metadata": {},
   "outputs": [],
   "source": [
    "result[y:y+h, x:x+w, 0].shape\n",
    "result[:,:,0].shape"
   ]
  },
  {
   "cell_type": "markdown",
   "id": "947a5a95",
   "metadata": {},
   "source": [
    "```{.output}\n",
    "(50, 60)\n",
    "(512, 512)\n",
    "```\n",
    "\n",
    "The region in the rectangle does not have any cells. Plotting a histogram for this region versus full image will result in the following plot.\n"
   ]
  },
  {
   "cell_type": "code",
   "execution_count": null,
   "id": "6c09816e",
   "metadata": {},
   "outputs": [],
   "source": [
    "# Plot histogram \n",
    "fig, axs = plt.subplots(2, sharex=True)\n",
    "\n",
    "axs[0].hist(result[:,:,0].ravel(), bins=30, label='intensity in all image');\n",
    "axs0_2 = axs[0].twinx()\n",
    "axs0_2.hist(result[y:y+h,x:x+w,0].ravel(), bins=3, color='r', alpha=0.3);\n",
    "axs[0].set_title('Nuclei')\n",
    "axs[0].legend()\n",
    "\n",
    "axs[1].hist(result[:,:,2].ravel(), bins=30);\n",
    "axs1_2 = axs[1].twinx()\n",
    "axs1_2.hist(result[y:y+h,x:x+w,2].ravel(), bins=3, color='r', alpha=0.3, label='intensity in ROI');\n",
    "axs[1].set_title('Cytoplasm')\n",
    "\n",
    "plt.legend()\n",
    "plt.show()"
   ]
  },
  {
   "cell_type": "markdown",
   "id": "6fa6f90c",
   "metadata": {},
   "source": [
    "<img src=\"fig/01-section1-rendered-unnamed-chunk-19-15.png\" width=\"672\" style=\"display: block; margin: auto;\" />\n",
    "\n",
    "<p style='text-align: justify;'>\n",
    "This plot compares the intensity of the pixels in the total image (blue) to those in the region of interest (ROI) bounded by the rectangle. If we move the ROI over cells, we can see how this intensity changes.\n",
    "</p>"
   ]
  },
  {
   "cell_type": "markdown",
   "id": "c2bb9d00",
   "metadata": {},
   "source": [
    "## Do it Yourself - Exercise 3\n",
    "\n",
    "Move the rectangle towards left so that it contains a few cells. Now plot the histogram again and see the differences."
   ]
  },
  {
   "cell_type": "markdown",
   "id": "cd0d4da0",
   "metadata": {},
   "source": [
    "## DIY ANSWER\n",
    "\n",
    "\n",
    "\n"
   ]
  },
  {
   "cell_type": "markdown",
   "id": "0c4573dc",
   "metadata": {},
   "source": [
    "## Do it Yourself - Exercise 4\n",
    "\n",
    "Repeat this process for other images (in the folder) and save 3-4 examples of cells with nuclei and cytoplasm marked\n"
   ]
  },
  {
   "cell_type": "markdown",
   "id": "14df1283",
   "metadata": {},
   "source": [
    "## DIY ANSWER\n",
    "\n"
   ]
  },
  {
   "cell_type": "markdown",
   "id": "cdab5c47",
   "metadata": {},
   "source": [
    "## Lunch Break\n",
    "\n",
    "## Image clustering\n",
    "\n",
    "[Clustering Methods](https://scikit-learn.org/stable/modules/clustering.html)"
   ]
  },
  {
   "cell_type": "markdown",
   "id": "2546f077",
   "metadata": {},
   "source": [
    "![Methods Comparison](fig/ClusterMethods.png)\n",
    "![Success Comparison](fig/Clustering_comparison.png)\n"
   ]
  },
  {
   "cell_type": "code",
   "execution_count": null,
   "id": "371766f4",
   "metadata": {},
   "outputs": [],
   "source": [
    "# Preparing the data for clustering\n",
    "\n",
    "img1 = result[:,:,0].reshape(-1, 1)\n",
    "img2 = result[:,:,2].reshape(-1, 1)\n",
    "\n",
    "all_imgs = np.concatenate([img1, img2], axis=1)\n",
    "\n",
    "all_imgs.shape"
   ]
  },
  {
   "cell_type": "markdown",
   "id": "2841e555",
   "metadata": {},
   "source": [
    "```{.output}\n",
    "(262144, 2)\n",
    "```\n"
   ]
  },
  {
   "cell_type": "code",
   "execution_count": null,
   "id": "1c20ed71",
   "metadata": {},
   "outputs": [],
   "source": [
    "# Import the clustering class\n",
    "from sklearn.mixture import GaussianMixture\n",
    "\n",
    "# Cluster the images and obtain the labels for each pixel\n",
    "n_components = 3\n",
    "\n",
    "RANDOM_STATE = 12345\n",
    "\n",
    "gmm = GaussianMixture(n_components=n_components, \n",
    "                      random_state=RANDOM_STATE)\n",
    "\n",
    "all_img_labels = gmm.fit_predict(all_imgs)\n",
    "\n",
    "all_img_labels[0]"
   ]
  },
  {
   "cell_type": "markdown",
   "id": "9eaaa065",
   "metadata": {},
   "source": [
    "```{.output}\n",
    "0\n",
    "```\n"
   ]
  },
  {
   "cell_type": "code",
   "execution_count": null,
   "id": "2ecee249",
   "metadata": {},
   "outputs": [],
   "source": [
    "fig, ax = plt.subplots(figsize=(6, 6))\n",
    "\n",
    "ax.scatter(img1[img1 > 0], img2[img2 > 0], c=all_img_labels, s=50)\n",
    "\n",
    "ax.set_xlabel('Image 1', fontsize=16)\n",
    "ax.set_ylabel('Image 2', fontsize=16);\n",
    "\n",
    "plt.show()"
   ]
  },
  {
   "cell_type": "markdown",
   "id": "b5d8dab3",
   "metadata": {},
   "source": [
    "<img src=\"fig/01-section1-rendered-unnamed-chunk-22-17.png\" width=\"576\" style=\"display: block; margin: auto;\" />\n"
   ]
  },
  {
   "cell_type": "code",
   "execution_count": null,
   "id": "aba3b7ba",
   "metadata": {
    "lines_to_next_cell": 2
   },
   "outputs": [],
   "source": [
    "from numpy import zeros\n",
    "\n",
    "mask = (data1>0) & (data3>0) \n",
    "\n",
    "all_img_labels_mapped = zeros(data1.shape)\n",
    "\n",
    "all_img_labels_mapped[mask] = all_img_labels"
   ]
  },
  {
   "cell_type": "code",
   "execution_count": null,
   "id": "e436f7f1",
   "metadata": {},
   "outputs": [],
   "source": [
    "fig, ax = plt.subplots(figsize=(6, 6))\n",
    "\n",
    "ax.imshow(all_img_labels_mapped);\n",
    "\n",
    "plt.show()"
   ]
  },
  {
   "cell_type": "markdown",
   "id": "12c9dee5",
   "metadata": {},
   "source": [
    "<img src=\"fig/01-section1-rendered-unnamed-chunk-24-19.png\" width=\"576\" style=\"display: block; margin: auto;\" />\n",
    "\n",
    "The result depends critically on the specified number of clusters."
   ]
  },
  {
   "cell_type": "markdown",
   "id": "b96ba82a",
   "metadata": {},
   "source": [
    "## Do it Yourself - Exercise 5\n",
    "\n",
    "Change n_components to 2, 4, 5 and 6 and compare the results."
   ]
  },
  {
   "cell_type": "markdown",
   "id": "6a093852",
   "metadata": {},
   "source": [
    "## DIY ANSWER\n",
    "\n",
    "\n"
   ]
  },
  {
   "cell_type": "markdown",
   "id": "7ea838d8",
   "metadata": {},
   "source": [
    "## Do it Yourself - Exercise 6\n",
    "\n",
    "Apply the Kmeans algorithm to the images and compare the result of the clustering for different choices of n_components.\n",
    "\n",
    "[Documentation](https://scikit-learn.org/stable/modules/generated/sklearn.cluster.KMeans.html)# To import:\n",
    "\n",
    "```\n",
    "from sklearn.cluster import KMeans\n",
    "```"
   ]
  },
  {
   "cell_type": "markdown",
   "id": "423eb76e",
   "metadata": {},
   "source": [
    "## DIY ANSWER\n",
    "\n"
   ]
  },
  {
   "cell_type": "markdown",
   "id": "86304bb6",
   "metadata": {},
   "source": [
    "## Tea Break\n",
    "## \n",
    "## Segmentation\n",
    "Image segmentation allows us to locate objects and boundaries (lines, curves, *etc.*) within an image. Conventional methods make use of a threshold value to distinguish between different regions and/or cells. In this lesson, we will use a Python package called [**StarDist**](https://github.com/stardist/stardist), which makes use of deep learning methods to perform nuclei segmentation. It is designed particularly for nuclei segmentation. **StarDist** comes with pretrained models, that are likely suitable for your micrograph images. However, it is also possible to train your model specifically for your dataset.\n"
   ]
  },
  {
   "cell_type": "code",
   "execution_count": null,
   "id": "62656770",
   "metadata": {},
   "outputs": [],
   "source": [
    "## Load as images - Using Raw images\n",
    "\n",
    "data1 = Image.open(ch1_files[0])\n",
    "\n",
    "nuclei = np.zeros(np.shape(im))\n",
    "nuclei[:, :, 0] = data1\n",
    "\n",
    "plt.figure(dpi=100)\n",
    "plt.imshow(nuclei.astype(int))\n",
    "plt.axis('off')\n",
    "\n",
    "plt.show()"
   ]
  },
  {
   "cell_type": "markdown",
   "id": "c0c01126",
   "metadata": {},
   "source": [
    "```{.output}\n",
    "(-0.5, 511.5, 511.5, -0.5)\n",
    "```\n",
    "\n",
    "<img src=\"fig/01-section1-rendered-unnamed-chunk-25-21.png\" width=\"672\" style=\"display: block; margin: auto;\" />\n",
    "\n",
    "```\n",
    "from stardist.models import StarDist2D\n",
    "from stardist import random_label_cmap\n",
    "\n",
    "from csbdeep.utils import Path, normalize\n",
    "\n",
    "axis_norm = (0,1)   # normalize channels independently\n",
    "img = normalize(nuclei[:,:,0], 1,99.8, axis=axis_norm)\n",
    "\n",
    "model = StarDist2D.from_pretrained('2D_versatile_fluo')\n",
    "lbl_cmap = random_label_cmap()\n",
    "```\n",
    "\n",
    "<p style='text-align: justify;'>\n",
    "By running this Python code, you will see this message. This suggests that everything is working fine. The package **StarDist** requires the installation of a deep learning package **tensorflow**.\n",
    "</p>\n",
    "\n",
    "**Output**\n",
    "```\n",
    "Found model '2D_versatile_fluo' for 'StarDist2D'.\n",
    "Loading network weights from 'weights_best.h5'.\n",
    "Loading thresholds from 'thresholds.json'.\n",
    "Using default values: prob_thresh=0.479071, nms_thresh=0.3.\n",
    "```\n",
    "\n",
    "<p style='text-align: justify;'>\n",
    "In order to access pretrained models, the function *StarDist2D.from_pretrained()* provides a list from which a suitable model can be selected. There are two main types of models: one for fluorescent images, and the other for brightfield images. For our image, **StarDist** will perform nuclei prediction using *2D_versatile_fluo*.\n",
    "</p>\n",
    "\n",
    "The availability of pretrained models can be checked as follows:\n",
    "\n",
    "```\n",
    "StarDist2D.from_pretrained()\n",
    "```\n",
    "\n",
    "**Output**\n",
    "```\n",
    "There are 4 registered models for 'StarDist2D':\n",
    "\n",
    "Name                  Alias(es)\n",
    "             \n",
    "'2D_versatile_fluo'   'Versatile (fluorescent nuclei)'\n",
    "'2D_versatile_he'     'Versatile (H&E nuclei)'\n",
    "'2D_paper_dsb2018'    'DSB 2018 (from StarDist 2D paper)'\n",
    "'2D_demo'             None\n",
    "```\n",
    "\n",
    "```\n",
    "# Using pre-trained network to predict nuclei\n",
    "labels, details = model.predict_instances(img)\n",
    "```\n",
    "\n",
    "```\n",
    "## Show data\n",
    "\n",
    "fig, axs  = plt.subplots(1,2, dpi=200)\n",
    "axs[0].imshow(nuclei.astype(int))\n",
    "axs[0].axis('off')\n",
    "\n",
    "axs[1].imshow(nuclei.astype(int))\n",
    "axs[1].imshow(labels, cmap=lbl_cmap,alpha=0.5)\n",
    "axs[1].axis('off')\n",
    "\n",
    "```\n",
    "![](fig/seg1.png)\n",
    "\n",
    "<p style='text-align: justify;'>\n",
    "The image on the right is a segmented image, with correctly identified and predicted nuclei. This image is also referred to as a masked image. The next step will allow us to count the number of nuclei in this image, which is performed as follows:\n",
    "</p>\n",
    "\n",
    "```\n",
    "# Enumerate nuclei\n",
    "plt.figure(dpi=100)\n",
    "plt.imshow(nuclei.astype(int))\n",
    "\n",
    "for i, xy in enumerate(details['points']):\n",
    "    plt.annotate(str(i+1), [xy[1]+5,xy[0]], color='w', size=5)\n",
    "plt.axis('off')\n",
    "\n",
    "print(\"The total number of nuclei in the image are: \", len(details['points']))\n",
    "\n",
    "```\n",
    "\n",
    "```\n",
    "The total number of nuclei in the image are:  168\n",
    "```\n",
    "\n",
    "![](fig/seg3.png)"
   ]
  },
  {
   "cell_type": "markdown",
   "id": "6683795b",
   "metadata": {},
   "source": [
    "## Do it Yourself - Exercise 7\n",
    "\n",
    "Repeat segmentation for other images."
   ]
  },
  {
   "cell_type": "markdown",
   "id": "421a8436",
   "metadata": {},
   "source": [
    "## DIY ANSWER\n",
    "\n"
   ]
  },
  {
   "cell_type": "markdown",
   "id": "b2a35286",
   "metadata": {},
   "source": [
    "## Do it Yourself - Exercise 8\n",
    "\n",
    "Repeat segmentation for all 12 images and plot number of nuclei per image."
   ]
  },
  {
   "cell_type": "markdown",
   "id": "f752ebef",
   "metadata": {},
   "source": [
    "## DIY ANSWER\n",
    "\n"
   ]
  },
  {
   "cell_type": "markdown",
   "id": "f4a6a952",
   "metadata": {},
   "source": [
    "## Do it Yourself - Exercise 9\n",
    "\n",
    "Repeat segmentation for cytoplasm channel, what do you notice? Explain your observation for any pecularities."
   ]
  },
  {
   "cell_type": "markdown",
   "id": "ec218f61",
   "metadata": {},
   "source": [
    "## DIY ANSWER\n",
    "\n"
   ]
  },
  {
   "cell_type": "markdown",
   "id": "f13345e5",
   "metadata": {},
   "source": [
    "<p style='text-align: justify;'>\n",
    "If you have done the above exercise of using **stardist** to perform segmentation for the cytoplasm channel, then you may have noticed some peculiarities. These can be justified by StarDist being designed for accurate segmentation of nuclei. However, if you are interested in cytoplasm segmentation, then using **cellpose** is better suited for this application. This Python package is more specialised, and better applied to cell and nucleus segmentation. After completing this workshop, you will observe that **stardist** and **cellpose** both work in a similar fashion. For more information and documentation, please follow this [link](https://github.com/MouseLand/cellpose).\n",
    "</p>\n",
    "\n",
    "## Summary and Conclusions\n",
    "<p style='text-align: justify;'>\n",
    "In undertaking this workshop, we have learned to import, explore and analyse fluorescence microscopy images, and how to perform some basic image analyses using several packages, in Python. We have also learned how to perform clustering analyses, through implementing unsupervised machine learning algorithms (GMM). Further to this, we provided an introduction into the use of deep learning algorithms for use in nuclei segmentation, which can provide a fast, accurate and powerful count of the nuclei present in an image; this can be invaluable for analysing large amounts of data. Following the guided links, you can start to explore more advanced image analysis techniques, and *Learn To Discover* how these can help you further your own work, and research.\n",
    "</p>"
   ]
  },
  {
   "cell_type": "markdown",
   "id": "55b56165",
   "metadata": {},
   "source": [
    "- The key image processing libraries in Python include `Python Imaging Library`, `Sci-kit Image`, `Scipy.ndimage` and `OpenCV`.\n",
    "- `Numpy` package converts an image object into a numerical array.\n",
    "- `ravel()` method of the array flattens an image into a single series of numbers. \n",
    "- The image intensities can be equalised by a function `exposure.equalize_hist` from the `exposure` module in `skimage` library.\n",
    "- Clustering of unlabeled data can be performed by several different ways using module `sklearn.cluster`.\n",
    "- Image segmentation allows us to locate objects and boundaries (lines, curves, etc.) within an image.\n",
    "- `StarDist` package uses deep learning for nuclei segmentation."
   ]
  },
  {
   "cell_type": "markdown",
   "id": "229b8a28",
   "metadata": {},
   "source": [
    "[r-markdown]: https://rmarkdown.rstudio.com/"
   ]
  }
 ],
 "metadata": {
  "jupytext": {
   "cell_metadata_filter": "-all",
   "main_language": "python",
   "notebook_metadata_filter": "-all"
  }
 },
 "nbformat": 4,
 "nbformat_minor": 5
}
